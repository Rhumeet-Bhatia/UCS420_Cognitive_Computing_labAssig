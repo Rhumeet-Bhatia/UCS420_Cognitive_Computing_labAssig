{
 "cells": [
  {
   "cell_type": "code",
   "execution_count": 1,
   "id": "f0895dbf-3376-4b07-ae40-59d6953d2c5c",
   "metadata": {},
   "outputs": [
    {
     "name": "stdout",
     "output_type": "stream",
     "text": [
      "10/ -5 = -2.0\n",
      "10/ -4 = -2.5\n",
      "10/ -3 = -3.3333333333333335\n",
      "10/ -2 = -5.0\n",
      "10/ -1 = -10.0\n",
      "10/ 0 = error\n",
      "10/ 1 = 10.0\n",
      "10/ 2 = 5.0\n",
      "10/ 3 = 3.3333333333333335\n",
      "10/ 4 = 2.5\n"
     ]
    }
   ],
   "source": [
    "for i in range(-5,5):\n",
    "\ttry:\n",
    "\t\tprint (\"10/\",i,\"=\",10/i)\n",
    "\texcept:\n",
    "\t\tprint (\"10/\",i,\"=\",\"error\")"
   ]
  },
  {
   "cell_type": "code",
   "execution_count": 2,
   "id": "fe456ba9-3def-497b-be3b-3787eaacc4ae",
   "metadata": {},
   "outputs": [
    {
     "name": "stdout",
     "output_type": "stream",
     "text": [
      "10/ -5 = -2.0\n",
      "10/ -4 = -2.5\n",
      "10/ -3 = -3.3333333333333335\n",
      "10/ -2 = -5.0\n",
      "10/ -1 = -10.0\n",
      "division by zero\n"
     ]
    }
   ],
   "source": [
    "try:\n",
    "    for i in range(-5,5):\n",
    "    \tprint (\"10/\",i,\"=\",10/i)\n",
    "except Exception as e:\n",
    "    print(e)"
   ]
  },
  {
   "cell_type": "code",
   "execution_count": 3,
   "id": "613f4555-2b64-42ce-856b-39dc883fb50a",
   "metadata": {},
   "outputs": [
    {
     "name": "stdout",
     "output_type": "stream",
     "text": [
      "0 ===> 1\n",
      "1 ===> 2\n",
      "2 ===> 3\n",
      "3 ===> 4\n",
      "4 ===> 5\n",
      "5 ===> list index out of range\n",
      "6 ===> list index out of range\n",
      "7 ===> list index out of range\n"
     ]
    }
   ],
   "source": [
    "l=[1,2,3,4,5]\n",
    "for i in range(8):\n",
    "    try:\n",
    "        print(i,\"===>\",l[i])\n",
    "    except Exception as e:\n",
    "        print(i,\"===>\",e)"
   ]
  },
  {
   "cell_type": "code",
   "execution_count": 4,
   "id": "9f067ff7-ea04-488c-bea1-c6106c045b7f",
   "metadata": {},
   "outputs": [
    {
     "name": "stdin",
     "output_type": "stream",
     "text": [
      "Enter File Name:  hello.txt\n"
     ]
    },
    {
     "name": "stdout",
     "output_type": "stream",
     "text": [
      "[Errno 2] No such file or directory: 'hello.txt'\n",
      "Done Operation\n"
     ]
    }
   ],
   "source": [
    "fileName=input(\"Enter File Name: \")\n",
    "try:\n",
    "\tfp=open(fileName)\n",
    "\tfp.close()\n",
    "except Exception as e:\n",
    "\tprint (e)\n",
    "print('Done Operation')"
   ]
  },
  {
   "cell_type": "code",
   "execution_count": null,
   "id": "d8aff7dc-ff63-4581-be3c-c8480afbd354",
   "metadata": {},
   "outputs": [],
   "source": []
  }
 ],
 "metadata": {
  "kernelspec": {
   "display_name": "Python [conda env:base] *",
   "language": "python",
   "name": "conda-base-py"
  },
  "language_info": {
   "codemirror_mode": {
    "name": "ipython",
    "version": 3
   },
   "file_extension": ".py",
   "mimetype": "text/x-python",
   "name": "python",
   "nbconvert_exporter": "python",
   "pygments_lexer": "ipython3",
   "version": "3.12.7"
  }
 },
 "nbformat": 4,
 "nbformat_minor": 5
}
