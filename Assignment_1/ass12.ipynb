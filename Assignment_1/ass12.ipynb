{
 "cells": [
  {
   "cell_type": "code",
   "execution_count": 1,
   "id": "d4b1f947-3cd4-4f30-8f98-232074425ab8",
   "metadata": {},
   "outputs": [
    {
     "name": "stdout",
     "output_type": "stream",
     "text": [
      "Dictionary      -->  {1: 8.9, 2: 5.6, 4: 6.7, 7: 9.1, 8: 5.3}\n",
      "Num of elements -->  5\n",
      "CGPA of 1       -->  8.9\n",
      "CGPA of 4       -->  6.7\n",
      "CGPA of 7       -->  9.1\n"
     ]
    }
   ],
   "source": [
    "CGPA={1:8.9, 2:5.6, 4:6.7, 7:9.1, 8:5.3}\n",
    "print (\"Dictionary      --> \", CGPA)\n",
    "print (\"Num of elements --> \", len(CGPA))\n",
    "\n",
    "print (\"CGPA of 1       --> \", CGPA[1])\n",
    "print (\"CGPA of 4       --> \", CGPA[4])\n",
    "print (\"CGPA of 7       --> \", CGPA[7])"
   ]
  },
  {
   "cell_type": "code",
   "execution_count": 2,
   "id": "c13ae352-972d-4c3a-b45e-e7fe9d098a58",
   "metadata": {},
   "outputs": [
    {
     "name": "stdout",
     "output_type": "stream",
     "text": [
      "CGPA of  1 = 8.9\n",
      "CGPA of  2 = 5.6\n",
      "CGPA of  4 = 6.7\n",
      "CGPA of  7 = 9.1\n",
      "CGPA of  8 = 5.3\n"
     ]
    }
   ],
   "source": [
    "for i in CGPA:\n",
    "\tprint (\"CGPA of \",i, \"=\",CGPA[i])"
   ]
  },
  {
   "cell_type": "code",
   "execution_count": 3,
   "id": "361c9fda-5e60-4c91-9bcb-e0ad1a4f47cb",
   "metadata": {},
   "outputs": [
    {
     "name": "stdout",
     "output_type": "stream",
     "text": [
      "Dictionary -->  {1: 8.9, 2: 5.6, 4: 6.7, 7: 9.1, 8: 5.3}\n",
      "Keys       -->  [1, 2, 4, 7, 8]\n",
      "Values     -->  [8.9, 5.6, 6.7, 9.1, 5.3]\n"
     ]
    }
   ],
   "source": [
    "print (\"Dictionary --> \", CGPA)\n",
    "print (\"Keys       --> \", list(CGPA.keys()))\n",
    "print (\"Values     --> \", list(CGPA.values()))"
   ]
  },
  {
   "cell_type": "code",
   "execution_count": 4,
   "id": "ca45d483-aea9-48f4-ac7f-d2e186358a5b",
   "metadata": {},
   "outputs": [
    {
     "name": "stdout",
     "output_type": "stream",
     "text": [
      "Original Dictionary -->  {1: 8.9, 2: 5.6, 4: 6.7, 7: 9.1, 8: 5.3}\n",
      "After Updating (4)  -->  {1: 8.9, 2: 5.6, 4: 9.2, 7: 9.1, 8: 5.3}\n",
      "After Adding (3)    -->  {1: 8.9, 2: 5.6, 4: 9.2, 7: 9.1, 8: 5.3, 3: 8.6}\n",
      "After Deleting (1)  -->  {2: 5.6, 4: 9.2, 7: 9.1, 8: 5.3, 3: 8.6}\n",
      "After Clear         -->  {}\n"
     ]
    }
   ],
   "source": [
    "CGPA={1:8.9,2:5.6,4:6.7,7:9.1,8:5.3}\n",
    "print (\"Original Dictionary --> \", CGPA)\n",
    "\n",
    "CGPA[4] = 9.2\n",
    "print (\"After Updating (4)  --> \", CGPA)\n",
    "\n",
    "CGPA[3] = 8.6\n",
    "print (\"After Adding (3)    --> \", CGPA)\n",
    "\n",
    "del CGPA[1]\n",
    "print (\"After Deleting (1)  --> \", CGPA)\n",
    "\n",
    "CGPA.clear()\n",
    "print (\"After Clear         --> \", CGPA)\n",
    "\n",
    "del CGPA\n",
    "#print (\"After Delete        --> \", CGPA)           will give error"
   ]
  },
  {
   "cell_type": "code",
   "execution_count": 5,
   "id": "6e68d2e0-f940-4f44-be60-675528f61519",
   "metadata": {},
   "outputs": [
    {
     "name": "stdout",
     "output_type": "stream",
     "text": [
      "Original Dictionary -->  {1: 8.9, 2: 5.6, 4: 6.7, 7: 9.1, 8: 5.3}\n",
      "Is Key 2 Present    -->  True\n",
      "Is Key 9 Present    -->  False\n"
     ]
    }
   ],
   "source": [
    "CGPA={1:8.9, 2:5.6, 4:6.7, 7:9.1, 8:5.3}\n",
    "print (\"Original Dictionary --> \", CGPA)\n",
    "print (\"Is Key 2 Present    --> \", 2 in CGPA)\n",
    "print (\"Is Key 9 Present    --> \", 9 in CGPA)"
   ]
  },
  {
   "cell_type": "code",
   "execution_count": 6,
   "id": "0185b0bb-787e-48aa-842a-61783708649b",
   "metadata": {},
   "outputs": [
    {
     "name": "stdout",
     "output_type": "stream",
     "text": [
      "Original Dictionary -->  {'Prashant': 'Delhi', 'Govind': 'Gwalior', 'Anil': 'Morena', 'Pankaj': 'Agra'}\n",
      "Home Town of Prashant is -->  Delhi\n",
      "Home Town of Govind is   -->  Gwalior\n",
      "Home Town of Anil is     -->  Morena\n",
      "Home Town of Pankaj is   -->  Agra\n"
     ]
    }
   ],
   "source": [
    "HomeTown={\"Prashant\":\"Delhi\", \"Govind\":\"Gwalior\", \"Anil\":\"Morena\", \"Pankaj\":\"Agra\"}\n",
    "print (\"Original Dictionary --> \", HomeTown)\n",
    "print (\"Home Town of Prashant is --> \", HomeTown[\"Prashant\"])\n",
    "print (\"Home Town of Govind is   --> \", HomeTown[\"Govind\"])\n",
    "print (\"Home Town of Anil is     --> \", HomeTown[\"Anil\"])\n",
    "print (\"Home Town of Pankaj is   --> \", HomeTown[\"Pankaj\"])"
   ]
  },
  {
   "cell_type": "code",
   "execution_count": 7,
   "id": "0f6b6c5a-8d31-405b-b675-f669d0d0ca31",
   "metadata": {},
   "outputs": [
    {
     "name": "stdout",
     "output_type": "stream",
     "text": [
      "Home Town of  Prashant  is  -->  Delhi\n",
      "Home Town of  Govind  is  -->  Gwalior\n",
      "Home Town of  Anil  is  -->  Morena\n",
      "Home Town of  Pankaj  is  -->  Agra\n"
     ]
    }
   ],
   "source": [
    "for d in HomeTown:\n",
    "\tprint (\"Home Town of \", d, \" is  --> \", HomeTown[d])"
   ]
  },
  {
   "cell_type": "code",
   "execution_count": null,
   "id": "16f52c43-f6e6-46b5-aa8b-cab3f1302e6b",
   "metadata": {},
   "outputs": [],
   "source": []
  }
 ],
 "metadata": {
  "kernelspec": {
   "display_name": "Python [conda env:base] *",
   "language": "python",
   "name": "conda-base-py"
  },
  "language_info": {
   "codemirror_mode": {
    "name": "ipython",
    "version": 3
   },
   "file_extension": ".py",
   "mimetype": "text/x-python",
   "name": "python",
   "nbconvert_exporter": "python",
   "pygments_lexer": "ipython3",
   "version": "3.12.7"
  }
 },
 "nbformat": 4,
 "nbformat_minor": 5
}
