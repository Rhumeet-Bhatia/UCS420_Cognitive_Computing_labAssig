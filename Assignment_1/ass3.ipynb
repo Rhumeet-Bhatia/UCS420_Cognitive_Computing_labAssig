{
 "cells": [
  {
   "cell_type": "code",
   "execution_count": 1,
   "id": "494331e7-d902-44d0-8a28-efc6197e6540",
   "metadata": {},
   "outputs": [
    {
     "name": "stdin",
     "output_type": "stream",
     "text": [
      "Enter First Name:  Rhumeet \n",
      "Enter Second Name:  Bhatia\n"
     ]
    },
    {
     "name": "stdout",
     "output_type": "stream",
     "text": [
      "Your full name is Rhumeet Bhatia\n"
     ]
    }
   ],
   "source": [
    "a = input(\"Enter First Name: \")\n",
    "b = input(\"Enter Second Name: \")\n",
    "print(f'Your full name is {a+b}')"
   ]
  },
  {
   "cell_type": "code",
   "execution_count": 2,
   "id": "a9c3f364-e0f2-40de-b49d-b0c5c8f753e5",
   "metadata": {},
   "outputs": [
    {
     "name": "stdin",
     "output_type": "stream",
     "text": [
      "Enter First No:  4\n",
      "Enter Second No:  6\n"
     ]
    },
    {
     "name": "stdout",
     "output_type": "stream",
     "text": [
      "4+6=10\n"
     ]
    }
   ],
   "source": [
    "a = int(input(\"Enter First No: \"))\n",
    "b = int(input(\"Enter Second No: \"))\n",
    "print (f'{a}+{b}={a+b}')"
   ]
  },
  {
   "cell_type": "code",
   "execution_count": null,
   "id": "8e6444b0-15ff-4e08-8248-7c4a71b148f6",
   "metadata": {},
   "outputs": [],
   "source": []
  }
 ],
 "metadata": {
  "kernelspec": {
   "display_name": "Python [conda env:base] *",
   "language": "python",
   "name": "conda-base-py"
  },
  "language_info": {
   "codemirror_mode": {
    "name": "ipython",
    "version": 3
   },
   "file_extension": ".py",
   "mimetype": "text/x-python",
   "name": "python",
   "nbconvert_exporter": "python",
   "pygments_lexer": "ipython3",
   "version": "3.12.7"
  }
 },
 "nbformat": 4,
 "nbformat_minor": 5
}
