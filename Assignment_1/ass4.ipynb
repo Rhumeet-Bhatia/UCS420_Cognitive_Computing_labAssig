{
 "cells": [
  {
   "cell_type": "code",
   "execution_count": 1,
   "id": "05dd0206-fa7a-4a1f-85d7-8771e6fee3d9",
   "metadata": {},
   "outputs": [
    {
     "name": "stdout",
     "output_type": "stream",
     "text": [
      "1 2 3 4 5 6 7 8 9 10 "
     ]
    }
   ],
   "source": [
    "i=1\n",
    "while i<=10:\n",
    "\tprint(i,end=' ')\n",
    "\ti = i+1"
   ]
  },
  {
   "cell_type": "code",
   "execution_count": 2,
   "id": "92afea50-ceeb-4210-92e1-f647b902abe5",
   "metadata": {},
   "outputs": [
    {
     "name": "stdout",
     "output_type": "stream",
     "text": [
      "range(10)        -->  [0, 1, 2, 3, 4, 5, 6, 7, 8, 9]\n",
      "range(10,20)     -->  [10, 11, 12, 13, 14, 15, 16, 17, 18, 19]\n",
      "range(0,20,2)    -->  [2, 4, 6, 8, 10, 12, 14, 16, 18]\n",
      "range(-10,-20,2) -->  []\n",
      "range(-10,-20,-2)-->  [-10, -12, -14, -16, -18]\n"
     ]
    }
   ],
   "source": [
    "print (\"range(10)        --> \", list(range(10)))\n",
    "print (\"range(10,20)     --> \", list(range(10,20)))\n",
    "print (\"range(0,20,2)    --> \", list(range(2,20,2)))\n",
    "print (\"range(-10,-20,2) --> \", list(range(-10,-20,2)))\n",
    "print (\"range(-10,-20,-2)--> \", list(range(-10,-20,-2)))"
   ]
  },
  {
   "cell_type": "code",
   "execution_count": 3,
   "id": "ff1227e4-3d80-4776-8a7e-fad5cacc3a60",
   "metadata": {},
   "outputs": [
    {
     "name": "stdout",
     "output_type": "stream",
     "text": [
      "0 1 2 3 4 5 6 7 8 9 "
     ]
    }
   ],
   "source": [
    "for i in range(0,10):\n",
    "\tprint (i,end=' ')"
   ]
  },
  {
   "cell_type": "code",
   "execution_count": 4,
   "id": "df40107f-a3ef-4e77-87e7-298bc9803628",
   "metadata": {},
   "outputs": [
    {
     "name": "stdout",
     "output_type": "stream",
     "text": [
      "0 3 6 9 12 15 18 "
     ]
    }
   ],
   "source": [
    "for i in range(0,20,3):\n",
    "\tprint (i,end=' ')"
   ]
  },
  {
   "cell_type": "code",
   "execution_count": 5,
   "id": "2a726094-9592-44b8-b24d-f5fbc8395be8",
   "metadata": {},
   "outputs": [
    {
     "name": "stdout",
     "output_type": "stream",
     "text": [
      "0 -1 -2 -3 -4 -5 -6 -7 -8 -9 "
     ]
    }
   ],
   "source": [
    "for i in range(0,-10,-1):\n",
    "\tprint (i,end=' ')"
   ]
  },
  {
   "cell_type": "code",
   "execution_count": 6,
   "id": "35ba8e03-2c18-474e-a8c3-8db7d57cd164",
   "metadata": {},
   "outputs": [
    {
     "name": "stdout",
     "output_type": "stream",
     "text": [
      "5 * 1 = 5\n",
      "5 * 2 = 10\n",
      "5 * 3 = 15\n",
      "5 * 4 = 20\n",
      "5 * 5 = 25\n",
      "5 * 6 = 30\n",
      "5 * 7 = 35\n",
      "5 * 8 = 40\n",
      "5 * 9 = 45\n",
      "5 * 10 = 50\n"
     ]
    }
   ],
   "source": [
    "for i in range(1,11):\n",
    "\tprint (f'5 * {i} = {5*i}')"
   ]
  },
  {
   "cell_type": "code",
   "execution_count": 7,
   "id": "b893721c-f955-41ad-8302-bd1dda41a85d",
   "metadata": {},
   "outputs": [
    {
     "name": "stdout",
     "output_type": "stream",
     "text": [
      "Sum = 55\n"
     ]
    }
   ],
   "source": [
    "#Sum all numbers from 1 to 10\n",
    "s=0\n",
    "for i in range(1,11):\n",
    "\ts=s+i\n",
    "print (\"Sum =\",s)"
   ]
  },
  {
   "cell_type": "code",
   "execution_count": 8,
   "id": "9863925b-16f0-4dd1-b6e5-f84a6ee4414b",
   "metadata": {},
   "outputs": [
    {
     "name": "stdout",
     "output_type": "stream",
     "text": [
      "Sum is -->  55\n"
     ]
    }
   ],
   "source": [
    "print (\"Sum is --> \", sum(range(1,11)))"
   ]
  },
  {
   "cell_type": "code",
   "execution_count": 9,
   "id": "d08152ad-048e-4d3b-88a5-1914d61515ce",
   "metadata": {},
   "outputs": [
    {
     "name": "stdout",
     "output_type": "stream",
     "text": [
      "7 * 1 = 7\n",
      "7 * 2 = 14\n",
      "7 * 3 = 21\n",
      "7 * 4 = 28\n",
      "7 * 5 = 35\n",
      "7 * 6 = 42\n",
      "7 * 7 = 49\n",
      "7 * 8 = 56\n",
      "7 * 9 = 63\n",
      "7 * 10 = 70\n",
      "\n",
      "\n",
      "\n",
      "9 * 1 = 9\n",
      "9 * 2 = 18\n",
      "9 * 3 = 27\n",
      "9 * 4 = 36\n",
      "9 * 5 = 45\n",
      "9 * 6 = 54\n",
      "9 * 7 = 63\n",
      "9 * 8 = 72\n",
      "9 * 9 = 81\n",
      "9 * 10 = 90\n"
     ]
    }
   ],
   "source": [
    "#Assignment 4.1  WAP to print the table of 7, 9.\n",
    "for i in range(1,11):\n",
    "\tprint (f'7 * {i} = {7*i}')\n",
    "print('\\n\\n')\n",
    "for i in range(1,11):\n",
    "\tprint (f'9 * {i} = {9*i}')"
   ]
  },
  {
   "cell_type": "code",
   "execution_count": 10,
   "id": "f22e85ec-6881-4f22-9845-5229035af78f",
   "metadata": {},
   "outputs": [
    {
     "name": "stdin",
     "output_type": "stream",
     "text": [
      "Enter the no. whose table you want:  6\n"
     ]
    },
    {
     "name": "stdout",
     "output_type": "stream",
     "text": [
      "6 * 1 = 6\n",
      "6 * 2 = 12\n",
      "6 * 3 = 18\n",
      "6 * 4 = 24\n",
      "6 * 5 = 30\n",
      "6 * 6 = 36\n",
      "6 * 7 = 42\n",
      "6 * 8 = 48\n",
      "6 * 9 = 54\n",
      "6 * 10 = 60\n"
     ]
    }
   ],
   "source": [
    "#Assignment 4.2        WAP to print the table of n and n is given by user.\n",
    "n=eval(input('Enter the no. whose table you want: '))\n",
    "for i in range(1,11):\n",
    "\tprint (f'{n} * {i} = {n*i}')"
   ]
  },
  {
   "cell_type": "code",
   "execution_count": 11,
   "id": "fc6d945d-0622-4589-b22d-af7df8a9db48",
   "metadata": {},
   "outputs": [
    {
     "name": "stdin",
     "output_type": "stream",
     "text": [
      "Enter the no. whose table you want:  15\n"
     ]
    },
    {
     "name": "stdout",
     "output_type": "stream",
     "text": [
      "Sum= 120\n"
     ]
    }
   ],
   "source": [
    "#Assignment 4.3        WAP to add all the numbers from 1 to n and n is given by user.\n",
    "n=eval(input('Enter the no. whose table you want: '))\n",
    "print (\"Sum=\", sum(range(1,n+1)))"
   ]
  },
  {
   "cell_type": "code",
   "execution_count": null,
   "id": "973f1540-24d4-42f9-9387-42f7d495cbc7",
   "metadata": {},
   "outputs": [],
   "source": []
  }
 ],
 "metadata": {
  "kernelspec": {
   "display_name": "Python [conda env:base] *",
   "language": "python",
   "name": "conda-base-py"
  },
  "language_info": {
   "codemirror_mode": {
    "name": "ipython",
    "version": 3
   },
   "file_extension": ".py",
   "mimetype": "text/x-python",
   "name": "python",
   "nbconvert_exporter": "python",
   "pygments_lexer": "ipython3",
   "version": "3.12.7"
  }
 },
 "nbformat": 4,
 "nbformat_minor": 5
}
