{
 "cells": [
  {
   "cell_type": "code",
   "execution_count": 1,
   "id": "fa7c7490-b82b-4066-8808-f3afe04914bf",
   "metadata": {},
   "outputs": [
    {
     "name": "stdin",
     "output_type": "stream",
     "text": [
      "Enter First No:  6\n",
      "Enter Second No:  4\n"
     ]
    },
    {
     "name": "stdout",
     "output_type": "stream",
     "text": [
      "6 is greater\n"
     ]
    }
   ],
   "source": [
    "num1=int(input(\"Enter First No: \"))\n",
    "num2=int(input(\"Enter Second No: \"))\n",
    "if num1>num2:\n",
    "\tprint(f'{num1} is greater')\n",
    "else:\n",
    "\tprint(f'{num2} is greater')"
   ]
  },
  {
   "cell_type": "code",
   "execution_count": 2,
   "id": "8d0adf68-0a94-4301-8fec-d890e088df09",
   "metadata": {},
   "outputs": [
    {
     "name": "stdin",
     "output_type": "stream",
     "text": [
      "Enter a No:  5\n"
     ]
    },
    {
     "name": "stdout",
     "output_type": "stream",
     "text": [
      "5  is odd\n"
     ]
    }
   ],
   "source": [
    "num = int(input(\"Enter a No: \"))\n",
    "if num % 2 == 0:\n",
    "\tprint(num,\" is even\")\n",
    "else:\n",
    "\tprint(num,\" is odd\")"
   ]
  },
  {
   "cell_type": "code",
   "execution_count": 3,
   "id": "1757865e-b6c5-4ddc-bea8-6498820cc137",
   "metadata": {},
   "outputs": [
    {
     "name": "stdin",
     "output_type": "stream",
     "text": [
      "Enter a No:  17\n"
     ]
    },
    {
     "name": "stdout",
     "output_type": "stream",
     "text": [
      "Number is Prime\n"
     ]
    }
   ],
   "source": [
    "import math\n",
    "n = int(input(\"Enter a No: \"))\n",
    "flag=0\n",
    "for i in range(2, math.floor(math.sqrt(n))+1):\n",
    "\tif  n % i == 0:\n",
    "\t\tflag=1\n",
    "\t\tbreak\n",
    "if flag==0:\n",
    "\tprint (\"Number is Prime\")\n",
    "else:\n",
    "\tprint (\"Number is Not Prime\")"
   ]
  },
  {
   "cell_type": "code",
   "execution_count": 4,
   "id": "30666b15-d98e-4867-a16a-3c644201ca9b",
   "metadata": {},
   "outputs": [
    {
     "name": "stdin",
     "output_type": "stream",
     "text": [
      "Enter First String :  Rhumeet\n",
      "Enter Second String:  Bhatia\n"
     ]
    },
    {
     "name": "stdout",
     "output_type": "stream",
     "text": [
      "Rhumeet > Bhatia\n"
     ]
    }
   ],
   "source": [
    "str1 = input(\"Enter First String : \")\n",
    "str2 = input(\"Enter Second String: \")\n",
    "\n",
    "if str1 == str2:\n",
    "\tprint (f\"{str1} == {str2}\")\n",
    "elif str1 >= str2:\n",
    "\tprint (f\"{str1} > {str2}\")\n",
    "else:\n",
    "\tprint (f\"{str1} < {str2}\")"
   ]
  },
  {
   "cell_type": "raw",
   "id": "5f9c6b6e-96fc-4a28-b189-939204a97291",
   "metadata": {},
   "source": [
    "Assingment 5.1: WAP to find max amoung three numbers and input from user. [Try max() function]\n",
    "\n",
    "Assingment 5.2: WAP to add all numbers divisible by 7 and 9 from 1 to n and n is given by the user.\n",
    "\n",
    "Assingment 5.3: WAP to add all prime numbers from 1 to n and n is given by the user."
   ]
  },
  {
   "cell_type": "code",
   "execution_count": 5,
   "id": "6e8c3cfc-9e2a-4796-8ff0-9b59491cfd27",
   "metadata": {},
   "outputs": [
    {
     "name": "stdin",
     "output_type": "stream",
     "text": [
      "Enter 1st number 23\n",
      "Enter 2nd number 56\n",
      "Enter 3rd number 85\n"
     ]
    },
    {
     "name": "stdout",
     "output_type": "stream",
     "text": [
      "Maximum of 23,56 and 85 is 85\n"
     ]
    }
   ],
   "source": [
    "num1=eval(input('Enter 1st number'))\n",
    "num2=eval(input('Enter 2nd number'))\n",
    "num3=eval(input('Enter 3rd number'))\n",
    "max_num=max(num1,num2,num3)\n",
    "print(f'Maximum of {num1},{num2} and {num3} is {max_num}')"
   ]
  },
  {
   "cell_type": "code",
   "execution_count": 6,
   "id": "01fc636e-faa2-47bf-b931-9596a23fb605",
   "metadata": {},
   "outputs": [
    {
     "name": "stdin",
     "output_type": "stream",
     "text": [
      "Enter n:  221\n"
     ]
    },
    {
     "name": "stdout",
     "output_type": "stream",
     "text": [
      "Sum of numbers divisible by 7 and 9 from 1 to 221 is 378\n"
     ]
    }
   ],
   "source": [
    "n=eval(input('Enter n: '))\n",
    "ans=0\n",
    "for i in range(1,n+1):\n",
    "    if i%7==0 and i%9==0:\n",
    "        ans+=i\n",
    "print(f'Sum of numbers divisible by 7 and 9 from 1 to {n} is {ans}')"
   ]
  },
  {
   "cell_type": "code",
   "execution_count": 7,
   "id": "6eae0631-6aaf-4259-bab8-aaaffd56dc38",
   "metadata": {},
   "outputs": [
    {
     "name": "stdin",
     "output_type": "stream",
     "text": [
      "Enter n:  10\n"
     ]
    },
    {
     "name": "stdout",
     "output_type": "stream",
     "text": [
      "Sum of all prime nos. from 1 to 10 is 17\n"
     ]
    }
   ],
   "source": [
    "def isPrime(n):\n",
    "    if n==1:\n",
    "        return False\n",
    "    flag=0\n",
    "    for i in range(2, math.floor(math.sqrt(n))+1):\n",
    "    \tif  n%i==0:\n",
    "    \t\tflag=1\n",
    "    \t\tbreak\n",
    "    if flag==0:\n",
    "    \treturn True\n",
    "    else:\n",
    "    \treturn False\n",
    "n=eval(input('Enter n: '))\n",
    "ans=0\n",
    "for i in range(1,n+1):\n",
    "    if isPrime(i):\n",
    "        ans+=i\n",
    "print(f'Sum of all prime nos. from 1 to {n} is {ans}')\n"
   ]
  },
  {
   "cell_type": "code",
   "execution_count": null,
   "id": "16fba96b-8664-4e9b-9083-98794f37c944",
   "metadata": {},
   "outputs": [],
   "source": []
  }
 ],
 "metadata": {
  "kernelspec": {
   "display_name": "Python [conda env:base] *",
   "language": "python",
   "name": "conda-base-py"
  },
  "language_info": {
   "codemirror_mode": {
    "name": "ipython",
    "version": 3
   },
   "file_extension": ".py",
   "mimetype": "text/x-python",
   "name": "python",
   "nbconvert_exporter": "python",
   "pygments_lexer": "ipython3",
   "version": "3.12.7"
  }
 },
 "nbformat": 4,
 "nbformat_minor": 5
}
