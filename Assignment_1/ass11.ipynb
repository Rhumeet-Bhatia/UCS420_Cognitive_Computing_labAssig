{
 "cells": [
  {
   "cell_type": "code",
   "execution_count": 1,
   "id": "d0527398-209a-415e-9193-8e6dede3a28e",
   "metadata": {},
   "outputs": [
    {
     "name": "stdout",
     "output_type": "stream",
     "text": [
      "['abc', 22, 1, 'qwerty', 12.34, 56, 'uiop']\n"
     ]
    },
    {
     "data": {
      "text/plain": [
       "7"
      ]
     },
     "execution_count": 1,
     "metadata": {},
     "output_type": "execute_result"
    }
   ],
   "source": [
    "l=[\"abc\",22,1,'qwerty',12.34,56,'uiop']\n",
    "print(l)\n",
    "len(l)"
   ]
  },
  {
   "cell_type": "code",
   "execution_count": 2,
   "id": "71859e21-6b91-4dbd-b2e2-611c5eaa129b",
   "metadata": {},
   "outputs": [
    {
     "name": "stdout",
     "output_type": "stream",
     "text": [
      "abc\n",
      "22\n",
      "1\n",
      "qwerty\n",
      "12.34\n",
      "56\n",
      "uiop\n"
     ]
    }
   ],
   "source": [
    "for i in l:\n",
    "    print(i)"
   ]
  },
  {
   "cell_type": "code",
   "execution_count": 3,
   "id": "943aab17-9fc5-48f1-9bc4-2553b2a193cc",
   "metadata": {},
   "outputs": [
    {
     "name": "stdout",
     "output_type": "stream",
     "text": [
      "abc\n",
      "22\n",
      "1\n",
      "qwerty\n",
      "12.34\n",
      "56\n",
      "uiop\n"
     ]
    }
   ],
   "source": [
    "i=0\n",
    "while i<len(l):\n",
    "    print(l[i])\n",
    "    i+=1"
   ]
  },
  {
   "cell_type": "code",
   "execution_count": 4,
   "id": "516596bd-189a-4a51-a25a-51c004c82faf",
   "metadata": {},
   "outputs": [
    {
     "name": "stdout",
     "output_type": "stream",
     "text": [
      "['abc', 22, 1, 'qwerty', 12.34, 56, 'uiop', 'hello']\n",
      "['abc', 'qwerty', 12.34, 56, 'uiop', 'hello']\n"
     ]
    }
   ],
   "source": [
    "l.append('hello')\n",
    "print(l)\n",
    "del l[2],l[1]\n",
    "print(l)"
   ]
  },
  {
   "cell_type": "code",
   "execution_count": 5,
   "id": "0718c02d-63de-44e1-821e-b002a9b15921",
   "metadata": {},
   "outputs": [
    {
     "name": "stdout",
     "output_type": "stream",
     "text": [
      "Original List -->  [2, 4, 3, 1, 5, 6]\n",
      "Sum = 21\n",
      "Average = 3.5\n",
      "Average = 3\n",
      "L * 3  = [2, 4, 3, 1, 5, 6, 2, 4, 3, 1, 5, 6, 2, 4, 3, 1, 5, 6]\n",
      "L + L  = [2, 4, 3, 1, 5, 6, 2, 4, 3, 1, 5, 6]\n",
      "Maximum element is: 6\n",
      "Minimum element is: 1\n",
      "Sorted order ---> [1, 2, 3, 4, 5, 6]\n",
      "Reverse Sorted order ---> [6, 5, 4, 3, 2, 1]\n"
     ]
    }
   ],
   "source": [
    "L=[2,4,3,1,5,6]\n",
    "print (\"Original List --> \", L)\n",
    "print (\"Sum =\", sum(L))\n",
    "print (\"Average =\", sum(L)/len(L))\n",
    "print (\"Average =\", sum(L)//len(L))\n",
    "print (\"L * 3  =\", L * 3) \n",
    "print (\"L + L  =\", L + L)    \n",
    "print('Maximum element is:',max(L))\n",
    "print('Minimum element is:',min(L))\n",
    "L.sort()\n",
    "print('Sorted order --->',L)\n",
    "L.sort(reverse=True)\n",
    "print('Reverse Sorted order --->',L)"
   ]
  },
  {
   "cell_type": "code",
   "execution_count": 6,
   "id": "1d29320f-fda4-46cc-b4c8-ff8bce900ffe",
   "metadata": {},
   "outputs": [
    {
     "name": "stdout",
     "output_type": "stream",
     "text": [
      "[3, 6, 9]\n",
      "[12, 5, 3, 2]\n",
      "[3, 6, 9, 12, 5, 3, 2]\n"
     ]
    }
   ],
   "source": [
    "l1 = [3, 6, 9]\n",
    "l2 = [12, 5, 3, 2]\n",
    "print (l1)\n",
    "print (l2)\n",
    "print (l1+l2)\n",
    "# print(l1-l2)    error\n",
    "# print(l1*l2)    error"
   ]
  },
  {
   "cell_type": "code",
   "execution_count": 7,
   "id": "e7e39ab7-0d4b-4964-af88-b30cd198c194",
   "metadata": {},
   "outputs": [
    {
     "name": "stdout",
     "output_type": "stream",
     "text": [
      "Original List -->  [12, 5, 3, 2, 7]\n",
      "After Multiply with constant -->  [60, 25, 15, 10, 35]\n"
     ]
    }
   ],
   "source": [
    "L = [12, 5, 3, 2, 7]\n",
    "print (\"Original List --> \", L)\n",
    "newL = [i*5 for i in L]\n",
    "print (\"After Multiply with constant --> \", newL)"
   ]
  },
  {
   "cell_type": "code",
   "execution_count": 8,
   "id": "fafe2217-58b2-4eec-aa22-69503b4e9ffe",
   "metadata": {},
   "outputs": [
    {
     "name": "stdout",
     "output_type": "stream",
     "text": [
      "Original List -->  True\n",
      "Original List -->  False\n",
      "Original List -->  True\n",
      "Present\n",
      "Not Present\n"
     ]
    }
   ],
   "source": [
    "L=[3, 6, 9, 12, 5, 3, 2]\n",
    "print (\"Original List --> \", 6 in L)\n",
    "print (\"Original List --> \", 10 in L)\n",
    "print (\"Original List --> \", 12 in L)\n",
    "if (6 in L) == True:\n",
    "\tprint (\"Present\")\n",
    "else:\n",
    "\tprint (\"Not Present\")\n",
    "if (10 in L) == False:\n",
    "\tprint (\"Not Present\")\n",
    "else:\n",
    "\tprint (\"Present\")"
   ]
  },
  {
   "cell_type": "code",
   "execution_count": null,
   "id": "cbec8c34-875b-4171-afa4-cebb2578594e",
   "metadata": {},
   "outputs": [],
   "source": []
  }
 ],
 "metadata": {
  "kernelspec": {
   "display_name": "Python [conda env:base] *",
   "language": "python",
   "name": "conda-base-py"
  },
  "language_info": {
   "codemirror_mode": {
    "name": "ipython",
    "version": 3
   },
   "file_extension": ".py",
   "mimetype": "text/x-python",
   "name": "python",
   "nbconvert_exporter": "python",
   "pygments_lexer": "ipython3",
   "version": "3.12.7"
  }
 },
 "nbformat": 4,
 "nbformat_minor": 5
}
