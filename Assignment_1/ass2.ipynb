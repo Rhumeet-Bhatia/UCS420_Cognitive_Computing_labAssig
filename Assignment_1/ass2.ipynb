{
 "cells": [
  {
   "cell_type": "code",
   "execution_count": 1,
   "id": "eb4a3e22-0cf2-4185-92da-f6a912930017",
   "metadata": {},
   "outputs": [
    {
     "name": "stdout",
     "output_type": "stream",
     "text": [
      "10 + 220 = 230\n"
     ]
    }
   ],
   "source": [
    "a = 10\n",
    "b = 220\n",
    "print (a, \"+\",b,\"=\",a+b)"
   ]
  },
  {
   "cell_type": "code",
   "execution_count": 2,
   "id": "a778dc69-da55-4998-960c-f718aa120ce2",
   "metadata": {},
   "outputs": [
    {
     "name": "stdout",
     "output_type": "stream",
     "text": [
      "Rhumeet Bhatia\n"
     ]
    }
   ],
   "source": [
    "a = \"Rhumeet \"\n",
    "b = \"Bhatia\"\n",
    "print (a+b)"
   ]
  },
  {
   "cell_type": "code",
   "execution_count": 3,
   "id": "e71a7f35-8876-4b07-9329-732c95320e48",
   "metadata": {},
   "outputs": [
    {
     "name": "stdout",
     "output_type": "stream",
     "text": [
      "Rhumeet  +  100  =  Rhumeet100\n"
     ]
    }
   ],
   "source": [
    "# Concatinating string with number\n",
    "a = \"Rhumeet\"\n",
    "b = 100\n",
    "c = a + str(b)\t\t\n",
    "print (a, \" + \", b, \" = \", c)"
   ]
  },
  {
   "cell_type": "code",
   "execution_count": 4,
   "id": "001f38b3-2da2-4c04-9191-d0344e450845",
   "metadata": {},
   "outputs": [
    {
     "name": "stdout",
     "output_type": "stream",
     "text": [
      "2 + 3 + 5 = 10\n"
     ]
    }
   ],
   "source": [
    "#Assignment 2.1\n",
    "a=2\n",
    "b=3\n",
    "c=5\n",
    "print(f'{a} + {b} + {c} = {a+b+c}')"
   ]
  },
  {
   "cell_type": "code",
   "execution_count": 5,
   "id": "6cb8d328-a7d9-4dcb-b6df-f2a1ca4c7c9f",
   "metadata": {},
   "outputs": [
    {
     "name": "stdout",
     "output_type": "stream",
     "text": [
      "A for apple\n"
     ]
    }
   ],
   "source": [
    "#Assignmet 2.2\n",
    "str1='A '\n",
    "str2='for '\n",
    "str3='apple'\n",
    "print(str1+str2+str3)"
   ]
  },
  {
   "cell_type": "code",
   "execution_count": null,
   "id": "edbc18ce-7d9b-4dd3-a633-3e527d58a6ed",
   "metadata": {},
   "outputs": [],
   "source": []
  }
 ],
 "metadata": {
  "kernelspec": {
   "display_name": "Python [conda env:base] *",
   "language": "python",
   "name": "conda-base-py"
  },
  "language_info": {
   "codemirror_mode": {
    "name": "ipython",
    "version": 3
   },
   "file_extension": ".py",
   "mimetype": "text/x-python",
   "name": "python",
   "nbconvert_exporter": "python",
   "pygments_lexer": "ipython3",
   "version": "3.12.7"
  }
 },
 "nbformat": 4,
 "nbformat_minor": 5
}
