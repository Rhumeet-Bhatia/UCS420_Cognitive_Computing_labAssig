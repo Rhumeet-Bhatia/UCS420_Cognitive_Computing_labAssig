{
 "cells": [
  {
   "cell_type": "code",
   "execution_count": 1,
   "id": "2da8be9b-c77f-4641-ba5f-f68a19d2de46",
   "metadata": {},
   "outputs": [
    {
     "name": "stdout",
     "output_type": "stream",
     "text": [
      "exp(-120) = 7.667648073722e-53\n",
      "log(100,10) = 2.0\n",
      "log(100,2) = 6.643856189774725\n",
      "log10(100) = 2.0\n",
      "m.cos(30) = 0.15425144988758405\n",
      "m.sin(30) = -0.9880316240928618\n",
      "m.tan(30) = -6.405331196646276\n",
      "m.sqrt(324) = 18.0\n",
      "m.ceil(89.9) = 90\n",
      "m.floor(89.9) = 89\n"
     ]
    }
   ],
   "source": [
    "import math as m\n",
    "print (\"exp(-120) =\", m.exp(-120))  \n",
    "print (\"log(100,10) =\", m.log(100,10)) \n",
    "print (\"log(100,2) =\", m.log(100,2))\n",
    "print (\"log10(100) =\", m.log10(100)) \n",
    "print (\"m.cos(30) =\", m.cos(30))    \n",
    "print (\"m.sin(30) =\", m.sin(30))   \n",
    "print (\"m.tan(30) =\", m.tan(30))  \n",
    "print (\"m.sqrt(324) =\", m.sqrt(324))\n",
    "print (\"m.ceil(89.9) =\", m.ceil(89.9))\n",
    "print (\"m.floor(89.9) =\", m.floor(89.9))"
   ]
  },
  {
   "cell_type": "code",
   "execution_count": null,
   "id": "d52bcd4a-90cd-4740-a982-4f10980d5f59",
   "metadata": {},
   "outputs": [],
   "source": []
  }
 ],
 "metadata": {
  "kernelspec": {
   "display_name": "Python [conda env:base] *",
   "language": "python",
   "name": "conda-base-py"
  },
  "language_info": {
   "codemirror_mode": {
    "name": "ipython",
    "version": 3
   },
   "file_extension": ".py",
   "mimetype": "text/x-python",
   "name": "python",
   "nbconvert_exporter": "python",
   "pygments_lexer": "ipython3",
   "version": "3.12.7"
  }
 },
 "nbformat": 4,
 "nbformat_minor": 5
}
