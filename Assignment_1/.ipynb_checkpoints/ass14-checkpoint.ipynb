{
 "cells": [
  {
   "cell_type": "code",
   "execution_count": 1,
   "id": "aea3fc9c-2fda-449c-8108-157d458143be",
   "metadata": {},
   "outputs": [
    {
     "name": "stdout",
     "output_type": "stream",
     "text": [
      "Original set           -->  {1, 2, 3, 'A', 'C', 'B'}\n",
      "Num of elements in set -->  6\n"
     ]
    }
   ],
   "source": [
    "s1 = set(['A','B','C',1,2,3])\n",
    "print (\"Original set           --> \", s1)\n",
    "print (\"Num of elements in set --> \", len(s1))"
   ]
  },
  {
   "cell_type": "code",
   "execution_count": 2,
   "id": "99307717-8f9a-4186-9202-d753fcecd575",
   "metadata": {},
   "outputs": [
    {
     "name": "stdout",
     "output_type": "stream",
     "text": [
      "{1, 2, 3, 'A', 'C', 'B'} - {3, 4, 'C', 'D'} = {'A', 1, 2, 'B'}\n",
      "{1, 2, 3, 'A', 'C', 'B'} - {3, 4, 'C', 'D'} = {'A', 1, 2, 'B'}\n",
      "{3, 4, 'C', 'D'} - {1, 2, 3, 'A', 'C', 'B'} = {4, 'D'}\n",
      "{3, 4, 'C', 'D'} - {1, 2, 3, 'A', 'C', 'B'} = {4, 'D'}\n",
      "{1, 2, 3, 'A', 'C', 'B'} union {3, 4, 'C', 'D'} = {1, 2, 3, 4, 'A', 'D', 'C', 'B'}\n",
      "{1, 2, 3, 'A', 'C', 'B'} intersection {3, 4, 'C', 'D'} = {3, 'C'}\n",
      "Symmetric Difference: {1, 2, 3, 'A', 'C', 'B'} - {3, 4, 'C', 'D'} = {1, 2, 4, 'A', 'D', 'B'}\n",
      "Symmetric Difference: {3, 4, 'C', 'D'} - {1, 2, 3, 'A', 'C', 'B'} = {1, 2, 'A', 4, 'D', 'B'}\n"
     ]
    }
   ],
   "source": [
    "s2={\"C\",\"D\",3,4}\n",
    "print(f'{s1} - {s2} = {s1-s2}')\n",
    "print(f'{s1} - {s2} = {s1.difference(s2)}')\n",
    "print(f'{s2} - {s1} = {s2-s1}')\n",
    "print(f'{s2} - {s1} = {s2.difference(s1)}')\n",
    "print(f'{s1} union {s2} = {s1.union(s2)}')\n",
    "print(f'{s1} intersection {s2} = {s1.intersection(s2)}')\n",
    "print(f'Symmetric Difference: {s1} - {s2} = {s1.symmetric_difference(s2)}')\n",
    "print(f'Symmetric Difference: {s2} - {s1} = {s2.symmetric_difference(s1)}')"
   ]
  },
  {
   "cell_type": "code",
   "execution_count": 3,
   "id": "3862df99-9044-4031-ac8d-2428112ed64a",
   "metadata": {},
   "outputs": [
    {
     "name": "stdout",
     "output_type": "stream",
     "text": [
      "{'c', 'd', 'e', 'a', 'b'}\n",
      "{'c', 'd', 'e', 'a', 'z', 'b'}\n",
      "{'c', 'd', 'e', 'a', 'z', 'b'}\n",
      "{'c', 'd', 'e', 'a', 'z', 'b'}\n",
      "{'c', 'd', 'e', 'a', 'z'}\n",
      "{'d', 'e', 'a', 'z'}\n",
      "{'e', 'a', 'z'}\n"
     ]
    }
   ],
   "source": [
    "#Add, delete, pop element from set\n",
    "s={'a','c','e','b','d'}\n",
    "print(s)\n",
    "s.add('z')\n",
    "print(s)\n",
    "s.add('z')\n",
    "print(s)\n",
    "s.add('z')\n",
    "print(s)\n",
    "s.remove('b')\n",
    "print(s)\n",
    "s.pop()    # Remove and return an arbitrary set element.\n",
    "print(s)\n",
    "s.pop()   \n",
    "print(s)"
   ]
  },
  {
   "cell_type": "code",
   "execution_count": null,
   "id": "2103a972-134c-44d6-9028-74abc6e2c3c9",
   "metadata": {},
   "outputs": [],
   "source": []
  },
  {
   "cell_type": "code",
   "execution_count": null,
   "id": "e6132852-40f5-4df8-8ba2-7b377e781e13",
   "metadata": {},
   "outputs": [],
   "source": []
  }
 ],
 "metadata": {
  "kernelspec": {
   "display_name": "Python [conda env:base] *",
   "language": "python",
   "name": "conda-base-py"
  },
  "language_info": {
   "codemirror_mode": {
    "name": "ipython",
    "version": 3
   },
   "file_extension": ".py",
   "mimetype": "text/x-python",
   "name": "python",
   "nbconvert_exporter": "python",
   "pygments_lexer": "ipython3",
   "version": "3.12.7"
  }
 },
 "nbformat": 4,
 "nbformat_minor": 5
}
