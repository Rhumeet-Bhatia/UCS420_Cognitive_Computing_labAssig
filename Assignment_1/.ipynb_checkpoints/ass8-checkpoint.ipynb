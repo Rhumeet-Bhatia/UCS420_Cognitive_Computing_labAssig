{
 "cells": [
  {
   "cell_type": "code",
   "execution_count": 1,
   "id": "ebdfac89-bdc0-4a4f-b21a-a3547c92ad2e",
   "metadata": {},
   "outputs": [
    {
     "name": "stdout",
     "output_type": "stream",
     "text": [
      "str1 = Hello World!\n",
      "str1[0]  H\n",
      "str1[1:7] ello W\n",
      "str1[:-5] Hello W\n"
     ]
    }
   ],
   "source": [
    "str1= 'Hello World!'\n",
    "print (\"str1 =\",str1)\n",
    "print (\"str1[0] \",str1[0])\n",
    "print (\"str1[1:7]\",str1[1:7])\n",
    "print (\"str1[:-5]\",str1[:-5])"
   ]
  },
  {
   "cell_type": "code",
   "execution_count": 2,
   "id": "982f0b76-d855-4e12-8a92-f839491e3fbb",
   "metadata": {},
   "outputs": [
    {
     "name": "stdout",
     "output_type": "stream",
     "text": [
      "HELLO WORLD!\n",
      "hello world!\n",
      "12\n"
     ]
    }
   ],
   "source": [
    "print(str1.upper())\n",
    "print(str1.lower())\n",
    "print(len(str1))"
   ]
  },
  {
   "cell_type": "code",
   "execution_count": 3,
   "id": "37b71219-c977-4502-8e84-7815698541ac",
   "metadata": {},
   "outputs": [
    {
     "name": "stdin",
     "output_type": "stream",
     "text": [
      "Enter your name:  Rhumeet Bhatia\n",
      "Enter your age :  19\n",
      "Enter the book price:  1000\n"
     ]
    },
    {
     "name": "stdout",
     "output_type": "stream",
     "text": [
      "\n",
      "Your name is RHUMEET BHATIA, age is 19 and book price is 1000.000000\n"
     ]
    }
   ],
   "source": [
    "# String formatting\n",
    "name=input(\"Enter your name: \")\n",
    "age=int(input(\"Enter your age : \"))\n",
    "price=float(input(\"Enter the book price: \"))\n",
    "str1=\"\\nYour name is %s, age is %d and book price is %f\" %(name.upper(),age,price)\n",
    "print (str1)"
   ]
  },
  {
   "cell_type": "code",
   "execution_count": 4,
   "id": "7c71754b-d3c8-4689-bdde-a6991511de07",
   "metadata": {},
   "outputs": [
    {
     "name": "stdout",
     "output_type": "stream",
     "text": [
      "This is a long string that is made up of\n",
      "several lines and non-printable characters such as\n",
      "TAB ( \t ) and they will show up that way when displayed.\n",
      "NEWLINEs within the string, whether explicitly given like\n",
      "this within the brackets [ \n",
      " ], or just a NEWLINE within\n",
      "the variable assignment will also show up.\n",
      "\n"
     ]
    }
   ],
   "source": [
    "para_str = \"\"\"This is a long string that is made up of\n",
    "several lines and non-printable characters such as\n",
    "TAB ( \\t ) and they will show up that way when displayed.\n",
    "NEWLINEs within the string, whether explicitly given like\n",
    "this within the brackets [ \\n ], or just a NEWLINE within\n",
    "the variable assignment will also show up.\n",
    "\"\"\"\n",
    "print (para_str)"
   ]
  },
  {
   "cell_type": "code",
   "execution_count": 5,
   "id": "00ec62c5-3c2d-46f8-a37a-fa7023bd0ff8",
   "metadata": {},
   "outputs": [
    {
     "name": "stdout",
     "output_type": "stream",
     "text": [
      "   A for    Apple        \n",
      "len of    A for    Apple         = 25\n",
      "A for    Apple\n",
      "len of A for    Apple = 14\n"
     ]
    }
   ],
   "source": [
    "str1='   A for    Apple        '\n",
    "print(str1)\n",
    "print(f'len of {str1} = {len(str1)}')\n",
    "str1=str1.strip()\n",
    "print(str1)\n",
    "print(f'len of {str1} = {len(str1)}')"
   ]
  },
  {
   "cell_type": "code",
   "execution_count": 6,
   "id": "13b84bf9-5308-4bf6-90c2-4c16111a68db",
   "metadata": {},
   "outputs": [
    {
     "data": {
      "text/plain": [
       "(['A', 'for', 'Apple'],\n",
       " ['A', 'for', '', '', '', 'Apple'],\n",
       " ['A for    A', '', 'le'])"
      ]
     },
     "execution_count": 6,
     "metadata": {},
     "output_type": "execute_result"
    }
   ],
   "source": [
    "l1=str1.split()\n",
    "l2=str1.split(' ')\n",
    "l3=str1.split('p')\n",
    "l1,l2,l3"
   ]
  },
  {
   "cell_type": "code",
   "execution_count": 7,
   "id": "f1480df0-e1ce-42d4-8ea9-5b85782511f8",
   "metadata": {},
   "outputs": [
    {
     "name": "stdout",
     "output_type": "stream",
     "text": [
      "A for    Apple\n",
      "15\n",
      "5\n",
      "2\n"
     ]
    }
   ],
   "source": [
    "print(str1)\n",
    "print(str1.count(''))\n",
    "print(str1.count(' '))\n",
    "print(str1.count('p'))"
   ]
  },
  {
   "cell_type": "code",
   "execution_count": 8,
   "id": "2d195337-ceaa-4134-9933-924576ef9d2e",
   "metadata": {},
   "outputs": [
    {
     "name": "stdout",
     "output_type": "stream",
     "text": [
      "!dlroW olleH\n"
     ]
    }
   ],
   "source": [
    "# reversing the string\n",
    "str1='Hello World!'\n",
    "print(str1[::-1])"
   ]
  },
  {
   "cell_type": "code",
   "execution_count": 9,
   "id": "223f5dc6-8911-46e2-b7ed-bd25c01b9e59",
   "metadata": {},
   "outputs": [
    {
     "name": "stdout",
     "output_type": "stream",
     "text": [
      "abcbbcba is palindrome\n"
     ]
    }
   ],
   "source": [
    "# Palindrome Checking\n",
    "str1='abcbbcba'\n",
    "if str1==str1[::-1]:\n",
    "    print(f'{str1} is palindrome')"
   ]
  },
  {
   "cell_type": "code",
   "execution_count": null,
   "id": "973936dc-cade-4201-ba05-e52c92a9404d",
   "metadata": {},
   "outputs": [],
   "source": []
  }
 ],
 "metadata": {
  "kernelspec": {
   "display_name": "Python [conda env:base] *",
   "language": "python",
   "name": "conda-base-py"
  },
  "language_info": {
   "codemirror_mode": {
    "name": "ipython",
    "version": 3
   },
   "file_extension": ".py",
   "mimetype": "text/x-python",
   "name": "python",
   "nbconvert_exporter": "python",
   "pygments_lexer": "ipython3",
   "version": "3.12.7"
  }
 },
 "nbformat": 4,
 "nbformat_minor": 5
}
