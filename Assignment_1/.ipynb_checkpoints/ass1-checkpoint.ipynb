{
 "cells": [
  {
   "cell_type": "code",
   "execution_count": 1,
   "id": "ea500756-317a-4025-8a9e-4e8df6162949",
   "metadata": {},
   "outputs": [
    {
     "name": "stdout",
     "output_type": "stream",
     "text": [
      "Hello World\n"
     ]
    }
   ],
   "source": [
    "print('Hello World')"
   ]
  },
  {
   "cell_type": "code",
   "execution_count": 2,
   "id": "43de2ef8-2b4c-40cf-b33a-be6d6e9c9513",
   "metadata": {},
   "outputs": [
    {
     "name": "stdout",
     "output_type": "stream",
     "text": [
      "Rhumeet Bhatia\n",
      "Rhumeet Bhatia\n",
      "Rhumeet Bhatia\n",
      "\n"
     ]
    }
   ],
   "source": [
    "print('Rhumeet Bhatia\\n'*3)"
   ]
  },
  {
   "cell_type": "code",
   "execution_count": null,
   "id": "706023d5-4c6b-44fb-8387-ab814ea091a1",
   "metadata": {},
   "outputs": [],
   "source": []
  }
 ],
 "metadata": {
  "kernelspec": {
   "display_name": "Python [conda env:base] *",
   "language": "python",
   "name": "conda-base-py"
  },
  "language_info": {
   "codemirror_mode": {
    "name": "ipython",
    "version": 3
   },
   "file_extension": ".py",
   "mimetype": "text/x-python",
   "name": "python",
   "nbconvert_exporter": "python",
   "pygments_lexer": "ipython3",
   "version": "3.12.7"
  }
 },
 "nbformat": 4,
 "nbformat_minor": 5
}
