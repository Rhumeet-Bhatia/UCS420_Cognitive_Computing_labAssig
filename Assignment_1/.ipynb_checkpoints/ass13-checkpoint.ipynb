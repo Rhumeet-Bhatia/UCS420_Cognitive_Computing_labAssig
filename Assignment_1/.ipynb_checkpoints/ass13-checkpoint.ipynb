{
 "cells": [
  {
   "cell_type": "markdown",
   "id": "8dcbf15b-a5a3-4d4d-ac5a-5e3f6b3b8bb3",
   "metadata": {},
   "source": [
    "## Declaring Tuple\n"
   ]
  },
  {
   "cell_type": "code",
   "execution_count": 2,
   "id": "41f64758-3a26-41e1-8603-a81724e332de",
   "metadata": {},
   "outputs": [
    {
     "name": "stdout",
     "output_type": "stream",
     "text": [
      "T               ===> ('Rhumeet', 'Bhatia', 15, 9)\n",
      "Num of elements ===> 4\n",
      "Type of Object  ===> <class 'tuple'>\n"
     ]
    }
   ],
   "source": [
    "# Method 1\n",
    "T = (\"Rhumeet\", 'Bhatia',15,9)\n",
    "print (\"T               ===>\",T)\n",
    "print (\"Num of elements ===>\",len(T))\n",
    "print (\"Type of Object  ===>\",type(T))"
   ]
  },
  {
   "cell_type": "code",
   "execution_count": 3,
   "id": "4bb4eb7d-a3d9-4b8d-a678-8056f0405047",
   "metadata": {},
   "outputs": [
    {
     "name": "stdout",
     "output_type": "stream",
     "text": [
      "T               ===> ('Pratham', 'Sharma', 3.14, 3)\n",
      "Num of elements ===> 4\n",
      "Type of Object  ===> <class 'tuple'>\n"
     ]
    }
   ],
   "source": [
    "# Method 2\n",
    "T = tuple([\"Pratham\", 'Sharma', 3.14, 3])   # Convert list to tuple\n",
    "print (\"T               ===>\", T)\n",
    "print (\"Num of elements ===>\", len(T))\n",
    "print (\"Type of Object  ===>\", type(T))"
   ]
  },
  {
   "cell_type": "code",
   "execution_count": 4,
   "id": "efe5626b-abe8-478c-b633-d694803f6d2c",
   "metadata": {},
   "outputs": [
    {
     "name": "stdout",
     "output_type": "stream",
     "text": [
      "T --> ('Pratham', 'Sharma', 3.14, 3)\n",
      "Pratham\n",
      "Sharma\n",
      "3.14\n",
      "3\n"
     ]
    }
   ],
   "source": [
    "# Tuple Iteration\n",
    "print (\"T -->\", T)\n",
    "i = 0\n",
    "while i < len(T):\n",
    "    print (T[i])\n",
    "    i += 1"
   ]
  },
  {
   "cell_type": "code",
   "execution_count": 5,
   "id": "4416a353-29da-4de4-bf80-8316e012adc7",
   "metadata": {},
   "outputs": [
    {
     "name": "stdout",
     "output_type": "stream",
     "text": [
      "Pratham\n",
      "Sharma\n",
      "3.14\n",
      "3\n"
     ]
    }
   ],
   "source": [
    "for i in range(0, len(T)):\n",
    "    print (T[i])"
   ]
  },
  {
   "cell_type": "code",
   "execution_count": 6,
   "id": "26de8778-50e0-4a5b-9823-8fbd57596ad3",
   "metadata": {},
   "outputs": [
    {
     "name": "stdout",
     "output_type": "stream",
     "text": [
      "Pratham\n",
      "Sharma\n",
      "3.14\n",
      "3\n"
     ]
    }
   ],
   "source": [
    "for i in T:\n",
    "    print (i)"
   ]
  },
  {
   "cell_type": "code",
   "execution_count": 7,
   "id": "9f704487-a040-453d-8757-c115615191f0",
   "metadata": {},
   "outputs": [
    {
     "name": "stdout",
     "output_type": "stream",
     "text": [
      "T     --> (3, 6, 9, 12, 5, 3, 2)\n",
      "T[1]  --> 6\n",
      "T[2]  --> 9\n",
      "T[-1] --> 2\n",
      "T[-2] --> 3\n"
     ]
    }
   ],
   "source": [
    "T = (3, 6, 9, 12, 5, 3, 2)\n",
    "print (\"T     -->\", T)\n",
    "print (\"T[1]  -->\", T[1])\n",
    "print (\"T[2]  -->\", T[2])\n",
    "print (\"T[-1] -->\", T[-1])\n",
    "print (\"T[-2] -->\", T[-2])"
   ]
  },
  {
   "cell_type": "code",
   "execution_count": 8,
   "id": "5e2d1319-090e-4635-91fb-fa520c572738",
   "metadata": {},
   "outputs": [
    {
     "name": "stdout",
     "output_type": "stream",
     "text": [
      "T        --> (3, 6, 9, 12, 5, 3, 2)\n",
      "T[1:3]   --> (6, 9)\n",
      "T[2:]    --> (9, 12, 5, 3, 2)\n",
      "T[2:5]   --> (9, 12, 5)\n",
      "T[:2]    --> (3, 6)\n",
      "T[:-1]   --> (3, 6, 9, 12, 5, 3)\n",
      "T[-4:-1] --> (12, 5, 3)\n"
     ]
    }
   ],
   "source": [
    "T = (3, 6, 9, 12, 5, 3, 2)\n",
    "print (\"T        -->\", T)\n",
    "print (\"T[1:3]   -->\", T[1:3])\n",
    "print (\"T[2:]    -->\", T[2:])\n",
    "print (\"T[2:5]   -->\", T[2:5])\n",
    "print (\"T[:2]    -->\", T[:2])\n",
    "print (\"T[:-1]   -->\", T[:-1])\n",
    "print (\"T[-4:-1] -->\", T[-4:-1])"
   ]
  },
  {
   "cell_type": "code",
   "execution_count": 9,
   "id": "80c52c92-6484-4dbe-95ba-f212dc79d96e",
   "metadata": {},
   "outputs": [
    {
     "name": "stdout",
     "output_type": "stream",
     "text": [
      "T       --> (3, 6, 9, 12, 5, 3, 2)\n",
      "Sum     --> 40\n",
      "Average --> 5.714285714285714\n",
      "Average --> 5\n",
      "Max --> 12\n",
      "Min --> 2\n"
     ]
    }
   ],
   "source": [
    "T = (3, 6, 9, 12, 5, 3, 2)\n",
    "print (\"T       -->\", T)\n",
    "print (\"Sum     -->\", sum(T))\n",
    "print (\"Average -->\", sum(T)/len(T))\n",
    "print (\"Average -->\", sum(T)//len(T))\n",
    "print (\"Max -->\", max(T))\n",
    "print (\"Min -->\", min(T))"
   ]
  },
  {
   "cell_type": "code",
   "execution_count": 10,
   "id": "d9ecf82b-ef88-40ec-853a-985b1b7bbd28",
   "metadata": {},
   "outputs": [
    {
     "name": "stdout",
     "output_type": "stream",
     "text": [
      "T   --> ('Rhumeet', 'Bhatia', 'Hello', 'Hi')\n",
      "Max --> Rhumeet\n",
      "Min --> Bhatia\n"
     ]
    }
   ],
   "source": [
    "T = (\"Rhumeet\", \"Bhatia\", \"Hello\", \"Hi\")      # String Tuple\n",
    "print (\"T   -->\", T)\n",
    "print (\"Max -->\", max(T))\n",
    "print (\"Min -->\", min(T))"
   ]
  },
  {
   "cell_type": "code",
   "execution_count": 11,
   "id": "dd80eac0-0ecc-44a7-b43d-6d34e9e174b1",
   "metadata": {},
   "outputs": [
    {
     "name": "stdout",
     "output_type": "stream",
     "text": [
      "T1 --> (1, 2, 3, 4)\n",
      "T2 --> (12, 6, 4)\n",
      "T3 --> (1, 2, 3, 4, 12, 6, 4)\n",
      "T4 --> (1, 2, 3, 4, 12, 6, 4, 1, 2, 3, 4, 12, 6, 4)\n"
     ]
    }
   ],
   "source": [
    "# Merging Tuples\n",
    "T1 = (1,2,3,4)\n",
    "T2 = (12,6,4)\n",
    "print (\"T1 -->\", T1)\n",
    "print (\"T2 -->\", T2)\n",
    "T3 = T1 + T2\n",
    "print (\"T3 -->\", T3)\n",
    "T4 = T1 + T2 + T1 + T2\n",
    "print (\"T4 -->\", T4)"
   ]
  },
  {
   "cell_type": "code",
   "execution_count": 12,
   "id": "51889dcd-8077-4edb-a236-d004e3e91a54",
   "metadata": {},
   "outputs": [
    {
     "name": "stdout",
     "output_type": "stream",
     "text": [
      "T1 --> (1, 2, 3, 4)\n",
      "T2 --> (12, 6, 4)\n",
      "T3 --> (2, 6, 4)\n",
      "T4 --> (1, 2)\n"
     ]
    }
   ],
   "source": [
    "# Merging part of Tuples\n",
    "print (\"T1 -->\", T1)\n",
    "print (\"T2 -->\", T2)\n",
    "T3 = T1[1:2] + T2[1:3]\n",
    "print (\"T3 -->\", T3)\n",
    "T4 = T1[:-2] + T2[:-3]\n",
    "print (\"T4 -->\", T4)"
   ]
  },
  {
   "cell_type": "code",
   "execution_count": 13,
   "id": "5f531faf-d2ba-49b5-9bda-47bd2ab73ef7",
   "metadata": {},
   "outputs": [
    {
     "name": "stdout",
     "output_type": "stream",
     "text": [
      "T       --> (3, 6, 9, 12, 5, 3, 2)\n",
      "6  in T --> True\n",
      "10 in T --> False\n",
      "12 in T --> True\n"
     ]
    }
   ],
   "source": [
    "# Searching in the tuple\n",
    "T = (3, 6, 9, 12, 5, 3, 2)\n",
    "print (\"T       -->\", T)\n",
    "print (\"6  in T -->\", 6 in T)\n",
    "print (\"10 in T -->\", 10 in T)\n",
    "print (\"12 in T -->\", 12 in T)"
   ]
  },
  {
   "cell_type": "code",
   "execution_count": 14,
   "id": "9ca94a4f-a74a-4e8e-ad12-c968fb2b51a4",
   "metadata": {},
   "outputs": [
    {
     "name": "stdout",
     "output_type": "stream",
     "text": [
      "T --> ('Rhumeet', 'Bhatia', 'Hello', 'Hi')\n",
      "'tuple' object does not support item assignment\n",
      "T --> ('Rhumeet', 'Bhatia', 'Hello', 'Hi')\n"
     ]
    }
   ],
   "source": [
    "# Adding element to Tuple (Error)\n",
    "T = (\"Rhumeet\", \"Bhatia\", \"Hello\", \"Hi\") \n",
    "print (\"T -->\", T)\n",
    "try:\n",
    "    T[2] = 900              \n",
    "except Exception as e:\n",
    "    print(e)\n",
    "print (\"T -->\", T)\n",
    "\n",
    "#Tuples are unchangeable. We cannot add items to it."
   ]
  },
  {
   "cell_type": "code",
   "execution_count": 15,
   "id": "3220a0f7-b7df-4217-8495-c23b6493073a",
   "metadata": {},
   "outputs": [
    {
     "name": "stdout",
     "output_type": "stream",
     "text": [
      "T         --> ('Rhumeet', 'Bhatia', 'Hello', 'Hi')\n",
      "After Add --> ('Rhumeet', 'Bhatia', 'Hello', 'Hi', 10)\n"
     ]
    }
   ],
   "source": [
    "# Adding element to Tuple - (Jugaad)\n",
    "print (\"T         -->\", T)\n",
    "l = list(T)\n",
    "l.append(10)\n",
    "T = tuple(l)\n",
    "print (\"After Add -->\", T)"
   ]
  },
  {
   "cell_type": "code",
   "execution_count": 16,
   "id": "63f56320-97be-41a9-999c-b28d989171fd",
   "metadata": {},
   "outputs": [
    {
     "name": "stdout",
     "output_type": "stream",
     "text": [
      "T            --> ('Rhumeet', 'Bhatia', 'Hello', 'Hi', 10)\n",
      "After Insert --> ['Rhumeet', 'Bhatia', 'Rahul', 'Hello', 'Hi', 10]\n"
     ]
    }
   ],
   "source": [
    "#  Inserting element in Tuple - (Jugaad)\n",
    "print (\"T            -->\", T)\n",
    "l= list(T)\n",
    "l.insert(2, \"Rahul\")\n",
    "T=tuple(l)\n",
    "print (\"After Insert -->\", l)"
   ]
  },
  {
   "cell_type": "code",
   "execution_count": 17,
   "id": "c9fca042-1e92-453b-8cc6-28178d9a012b",
   "metadata": {},
   "outputs": [
    {
     "name": "stdout",
     "output_type": "stream",
     "text": [
      "T            --> ('Rhumeet', 'Bhatia', 'Rahul', 'Hello', 'Hi', 10)\n",
      "'tuple' object doesn't support item deletion\n",
      "After Delete --> ('Rhumeet', 'Bhatia', 'Rahul', 'Hello', 'Hi', 10)\n"
     ]
    }
   ],
   "source": [
    "# Deleting from Tuple (Error)\n",
    "print (\"T            -->\", T)\n",
    "try:\n",
    "    del T[1]\n",
    "except Exception as e:\n",
    "    print(e)\n",
    "print (\"After Delete -->\", T)"
   ]
  },
  {
   "cell_type": "code",
   "execution_count": 18,
   "id": "d8905853-3170-48e0-808b-7ac923fd8235",
   "metadata": {},
   "outputs": [
    {
     "name": "stdout",
     "output_type": "stream",
     "text": [
      "T            --> ('Rhumeet', 'Bhatia', 'Rahul', 'Hello', 'Hi', 10)\n",
      "After Delete --> ('Rhumeet', 'Rahul', 'Hello', 'Hi', 10)\n"
     ]
    }
   ],
   "source": [
    "# Deleting from Tuple - (Jugaad)\n",
    "print (\"T            -->\", T)\n",
    "l = list(T)\n",
    "del l[1]\n",
    "T = tuple(l)\n",
    "print (\"After Delete -->\", T)"
   ]
  },
  {
   "cell_type": "code",
   "execution_count": null,
   "id": "7589b4ff-f4f5-47c6-9118-96314eda21ec",
   "metadata": {},
   "outputs": [],
   "source": []
  }
 ],
 "metadata": {
  "kernelspec": {
   "display_name": "Python [conda env:base] *",
   "language": "python",
   "name": "conda-base-py"
  },
  "language_info": {
   "codemirror_mode": {
    "name": "ipython",
    "version": 3
   },
   "file_extension": ".py",
   "mimetype": "text/x-python",
   "name": "python",
   "nbconvert_exporter": "python",
   "pygments_lexer": "ipython3",
   "version": "3.12.7"
  }
 },
 "nbformat": 4,
 "nbformat_minor": 5
}
