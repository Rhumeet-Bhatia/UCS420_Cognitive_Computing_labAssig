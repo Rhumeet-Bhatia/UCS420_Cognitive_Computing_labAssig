{
 "cells": [
  {
   "cell_type": "code",
   "execution_count": 1,
   "id": "bf4cc6bd-d49e-4f37-8991-6f9913cbe431",
   "metadata": {},
   "outputs": [
    {
     "name": "stdout",
     "output_type": "stream",
     "text": [
      "10+20 = 30\n",
      "20+50 = 70\n",
      "80+200 = 280\n"
     ]
    }
   ],
   "source": [
    "def Add(a,b):\n",
    "\treturn a+b\n",
    "\n",
    "print (\"10+20 =\",Add(10,20))\n",
    "print (\"20+50 =\",Add(20,50))\n",
    "print (\"80+200 =\",Add(80,200))"
   ]
  },
  {
   "cell_type": "code",
   "execution_count": 2,
   "id": "b961c938-9e2f-4c95-b0fe-3a0c722d2960",
   "metadata": {},
   "outputs": [
    {
     "name": "stdin",
     "output_type": "stream",
     "text": [
      "Enter n:  17\n"
     ]
    },
    {
     "name": "stdout",
     "output_type": "stream",
     "text": [
      "17 is prime: True\n"
     ]
    }
   ],
   "source": [
    "import math\n",
    "def isPrime(n):\n",
    "    if n==1:\n",
    "        return False\n",
    "    flag=0\n",
    "    for i in range(2, math.floor(math.sqrt(n))+1):\n",
    "    \tif  n%i==0:\n",
    "    \t\tflag=1\n",
    "    \t\tbreak\n",
    "    if flag==0:\n",
    "    \treturn True\n",
    "    else:\n",
    "    \treturn False\n",
    "n=eval(input('Enter n: '))\n",
    "print(f'{n} is prime: {isPrime(n)}')"
   ]
  },
  {
   "cell_type": "code",
   "execution_count": 3,
   "id": "62252643-1356-4fc5-aac4-f25274401d66",
   "metadata": {},
   "outputs": [
    {
     "name": "stdin",
     "output_type": "stream",
     "text": [
      "Enter n:  10\n"
     ]
    },
    {
     "name": "stdout",
     "output_type": "stream",
     "text": [
      "Sum from 1 to 10 is 55\n"
     ]
    }
   ],
   "source": [
    "# add 1 to n\n",
    "def Add(n):\n",
    "    return sum(range(1,n+1))\n",
    "n=eval(input('Enter n: '))\n",
    "print(f'Sum from 1 to {n} is {Add(n)}')"
   ]
  },
  {
   "cell_type": "raw",
   "id": "c2cc2630-4343-4eef-8b40-e81e6b42cf48",
   "metadata": {},
   "source": [
    "Assingment 6.1: WAP using function that add all odd numbers from 1 to n, n is given by the user.\n",
    "Assingment 6.2: WAP using function that add all prime numbers from 1 to n, n given by the user."
   ]
  },
  {
   "cell_type": "code",
   "execution_count": 4,
   "id": "01144b8a-6b40-4b0d-b58b-6b8add8ea3d1",
   "metadata": {},
   "outputs": [
    {
     "name": "stdin",
     "output_type": "stream",
     "text": [
      "Enter n:  10\n"
     ]
    },
    {
     "name": "stdout",
     "output_type": "stream",
     "text": [
      "Sum from 1 to 10 (odd numbers) is 25\n"
     ]
    }
   ],
   "source": [
    "def add_odd(n):\n",
    "    sum=0;\n",
    "    for i in range(1,n+1,2):\n",
    "        sum+=i\n",
    "    return sum\n",
    "n=eval(input('Enter n: '))\n",
    "print(f'Sum from 1 to {n} (odd numbers) is {add_odd(n)}')"
   ]
  },
  {
   "cell_type": "code",
   "execution_count": null,
   "id": "6f2b84a1-ea2e-45aa-a34f-0d7cdd5c05e1",
   "metadata": {},
   "outputs": [],
   "source": []
  }
 ],
 "metadata": {
  "kernelspec": {
   "display_name": "Python [conda env:base] *",
   "language": "python",
   "name": "conda-base-py"
  },
  "language_info": {
   "codemirror_mode": {
    "name": "ipython",
    "version": 3
   },
   "file_extension": ".py",
   "mimetype": "text/x-python",
   "name": "python",
   "nbconvert_exporter": "python",
   "pygments_lexer": "ipython3",
   "version": "3.12.7"
  }
 },
 "nbformat": 4,
 "nbformat_minor": 5
}
