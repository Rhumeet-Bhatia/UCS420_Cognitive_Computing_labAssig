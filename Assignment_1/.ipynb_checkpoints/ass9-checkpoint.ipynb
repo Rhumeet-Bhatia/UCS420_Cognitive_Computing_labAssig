{
 "cells": [
  {
   "cell_type": "code",
   "execution_count": 1,
   "id": "ae81b5e7-e764-495e-872d-2d5b2ccc4bb4",
   "metadata": {},
   "outputs": [
    {
     "data": {
      "text/plain": [
       "0.7781"
      ]
     },
     "execution_count": 1,
     "metadata": {},
     "output_type": "execute_result"
    }
   ],
   "source": [
    "# Generate random number between 0 and 1\n",
    "import random as r\n",
    "round(r.random(),4)"
   ]
  },
  {
   "cell_type": "code",
   "execution_count": 2,
   "id": "284a1308-6fcc-4c5e-959d-47a5fe3e56c8",
   "metadata": {},
   "outputs": [
    {
     "data": {
      "text/plain": [
       "20"
      ]
     },
     "execution_count": 2,
     "metadata": {},
     "output_type": "execute_result"
    }
   ],
   "source": [
    "# Generate random integer number\n",
    "r.randint(4,33)"
   ]
  },
  {
   "cell_type": "code",
   "execution_count": 3,
   "id": "59c9cc97-dbb8-43b6-a66a-ab931d9f7f34",
   "metadata": {},
   "outputs": [
    {
     "data": {
      "text/plain": [
       "12.322827973363117"
      ]
     },
     "execution_count": 3,
     "metadata": {},
     "output_type": "execute_result"
    }
   ],
   "source": [
    "# Generate random real number\n",
    "r.uniform(12,13.3)"
   ]
  },
  {
   "cell_type": "code",
   "execution_count": 4,
   "id": "bea0b0ec-7be2-418d-9585-049915faafcf",
   "metadata": {},
   "outputs": [
    {
     "name": "stdout",
     "output_type": "stream",
     "text": [
      "[4, 2, 5, 4]\n",
      "[-46, -63, -51, 7, -1, -7, -24, 56, 88, -58, 55, -55]\n"
     ]
    }
   ],
   "source": [
    "# Select sample from a list of elements\n",
    "l1=[23,4,2,52,5,2,5,2,53,4]\n",
    "print(r.sample(l1,4))\n",
    "print(r.sample(range(-100,100),12))"
   ]
  },
  {
   "cell_type": "code",
   "execution_count": 5,
   "id": "53c5f8d9-6bd2-4517-b31c-4a1097a6480d",
   "metadata": {},
   "outputs": [
    {
     "name": "stdout",
     "output_type": "stream",
     "text": [
      "['s', 'g', 'V', 'B', 'j', 'J', 'y', 'i', 'U', 'O']\n",
      "abcdefghijklmnopqrstuvwxyzABCDEFGHIJKLMNOPQRSTUVWXYZ\n",
      "sgVBjJyiUO\n",
      "s+g+V+B+j+J+y+i+U+O\n",
      "s*g*V*B*j*J*y*i*U*O\n",
      "s g V B j J y i U O\n"
     ]
    }
   ],
   "source": [
    "# Generate random string\n",
    "import string as s\n",
    "l1=r.sample(s.ascii_letters,10)\n",
    "print(l1)\n",
    "print(s.ascii_letters)\n",
    "print(''.join(l1))\n",
    "print('+'.join(l1))\n",
    "print('*'.join(l1))\n",
    "print(' '.join(l1))"
   ]
  },
  {
   "cell_type": "code",
   "execution_count": 6,
   "id": "ccc48379-6272-4552-8dc8-456ca5c00468",
   "metadata": {},
   "outputs": [
    {
     "name": "stdout",
     "output_type": "stream",
     "text": [
      "['0', '9', '4', '8', '5', '1', '6']\n",
      "0123456789\n",
      "0948516\n",
      "0+9+4+8+5+1+6\n",
      "0*9*4*8*5*1*6\n",
      "0 9 4 8 5 1 6\n"
     ]
    }
   ],
   "source": [
    "# Generate random digits\n",
    "l1=r.sample(s.digits,7)\n",
    "print(l1)\n",
    "print(s.digits)\n",
    "print(''.join(l1))\n",
    "print('+'.join(l1))\n",
    "print('*'.join(l1))\n",
    "print(' '.join(l1))"
   ]
  },
  {
   "cell_type": "code",
   "execution_count": 7,
   "id": "6fa66c49-d3ac-4730-93bb-42185cfdd7b4",
   "metadata": {},
   "outputs": [
    {
     "name": "stdout",
     "output_type": "stream",
     "text": [
      "['K', 'h', 'C', 'w', 'X', 'c', 'e']\n",
      "0123456789abcdefghijklmnopqrstuvwxyzABCDEFGHIJKLMNOPQRSTUVWXYZ\n",
      "KhCwXce\n",
      "K+h+C+w+X+c+e\n",
      "K*h*C*w*X*c*e\n",
      "K h C w X c e\n"
     ]
    }
   ],
   "source": [
    "# Generate random string + digits\n",
    "l1=r.sample(s.digits+s.ascii_letters,7)\n",
    "print(l1)\n",
    "print(s.digits + s.ascii_letters)\n",
    "print(''.join(l1))\n",
    "print('+'.join(l1))\n",
    "print('*'.join(l1))\n",
    "print(' '.join(l1))"
   ]
  },
  {
   "cell_type": "code",
   "execution_count": null,
   "id": "9465b65c-ee89-45b2-9168-28cab7d701b6",
   "metadata": {},
   "outputs": [],
   "source": []
  }
 ],
 "metadata": {
  "kernelspec": {
   "display_name": "Python [conda env:base] *",
   "language": "python",
   "name": "conda-base-py"
  },
  "language_info": {
   "codemirror_mode": {
    "name": "ipython",
    "version": 3
   },
   "file_extension": ".py",
   "mimetype": "text/x-python",
   "name": "python",
   "nbconvert_exporter": "python",
   "pygments_lexer": "ipython3",
   "version": "3.12.7"
  }
 },
 "nbformat": 4,
 "nbformat_minor": 5
}
