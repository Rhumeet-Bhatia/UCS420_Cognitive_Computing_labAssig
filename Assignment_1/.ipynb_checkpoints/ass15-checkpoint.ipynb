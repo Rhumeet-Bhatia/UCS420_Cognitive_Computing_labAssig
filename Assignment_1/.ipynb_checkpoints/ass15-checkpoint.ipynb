{
 "cells": [
  {
   "cell_type": "markdown",
   "id": "63a8843a-8040-4b28-b986-04a5fd7b080e",
   "metadata": {},
   "source": [
    "# Command Line Argument"
   ]
  },
  {
   "cell_type": "markdown",
   "id": "0d2eb773-ee3a-46c9-99d0-5bc81639ae74",
   "metadata": {},
   "source": [
    "- Add two numbers given at cmd line\n",
    "- Note: To run the program at cmd line\n",
    "- python Program.py 10 20"
   ]
  },
  {
   "cell_type": "code",
   "execution_count": 3,
   "id": "20a3af70-19ba-4c4e-9227-37a9bd45149a",
   "metadata": {},
   "outputs": [
    {
     "name": "stdout",
     "output_type": "stream",
     "text": [
      "['C:\\\\Users\\\\A\\\\anaconda3\\\\Lib\\\\site-packages\\\\ipykernel_launcher.py', '-f', 'C:\\\\Users\\\\A\\\\AppData\\\\Roaming\\\\jupyter\\\\runtime\\\\kernel-25f71ea1-047a-4a2d-af0b-1ab31efa549e.json']\n"
     ]
    },
    {
     "ename": "ValueError",
     "evalue": "invalid literal for int() with base 10: '-f'",
     "output_type": "error",
     "traceback": [
      "\u001b[1;31m---------------------------------------------------------------------------\u001b[0m",
      "\u001b[1;31mValueError\u001b[0m                                Traceback (most recent call last)",
      "Cell \u001b[1;32mIn[3], line 3\u001b[0m\n\u001b[0;32m      1\u001b[0m \u001b[38;5;28;01mimport\u001b[39;00m \u001b[38;5;21;01msys\u001b[39;00m\n\u001b[0;32m      2\u001b[0m \u001b[38;5;28mprint\u001b[39m (sys\u001b[38;5;241m.\u001b[39margv)\n\u001b[1;32m----> 3\u001b[0m a \u001b[38;5;241m=\u001b[39m \u001b[38;5;28mint\u001b[39m(sys\u001b[38;5;241m.\u001b[39margv[\u001b[38;5;241m1\u001b[39m]) \t\u001b[38;5;66;03m# First Number\u001b[39;00m\n\u001b[0;32m      4\u001b[0m b \u001b[38;5;241m=\u001b[39m \u001b[38;5;28mint\u001b[39m(sys\u001b[38;5;241m.\u001b[39margv[\u001b[38;5;241m2\u001b[39m])\t\u001b[38;5;66;03m# Second Number\u001b[39;00m\n\u001b[0;32m      5\u001b[0m c \u001b[38;5;241m=\u001b[39m a \u001b[38;5;241m+\u001b[39m b\n",
      "\u001b[1;31mValueError\u001b[0m: invalid literal for int() with base 10: '-f'"
     ]
    }
   ],
   "source": [
    "import sys\n",
    "print (sys.argv)\n",
    "a = int(sys.argv[1]) \t# First Number\n",
    "b = int(sys.argv[2])\t# Second Number\n",
    "c = a + b\n",
    "print (a, \" + \", b, \" --> \", c)"
   ]
  },
  {
   "cell_type": "code",
   "execution_count": 7,
   "id": "07da8f12-2d35-4751-9eb3-c34d52d8fd09",
   "metadata": {},
   "outputs": [
    {
     "name": "stdout",
     "output_type": "stream",
     "text": [
      "['C:\\\\Users\\\\A\\\\anaconda3\\\\Lib\\\\site-packages\\\\ipykernel_launcher.py', '-f', 'C:\\\\Users\\\\A\\\\AppData\\\\Roaming\\\\jupyter\\\\runtime\\\\kernel-25f71ea1-047a-4a2d-af0b-1ab31efa549e.json']\n",
      "-f  +  C:\\Users\\A\\AppData\\Roaming\\jupyter\\runtime\\kernel-25f71ea1-047a-4a2d-af0b-1ab31efa549e.json  -->  -f C:\\Users\\A\\AppData\\Roaming\\jupyter\\runtime\\kernel-25f71ea1-047a-4a2d-af0b-1ab31efa549e.json\n"
     ]
    }
   ],
   "source": [
    "# Concatinate two strings given at cmd line\n",
    "import sys\n",
    "print (sys.argv)\n",
    "str = sys.argv[1] + \" \" + sys.argv[2]\n",
    "print (sys.argv[1], \" + \", sys.argv[2], \" --> \", str)"
   ]
  },
  {
   "cell_type": "code",
   "execution_count": 9,
   "id": "a2010d9a-8595-445c-b48c-e052e5214e1a",
   "metadata": {},
   "outputs": [
    {
     "name": "stdout",
     "output_type": "stream",
     "text": [
      "['C:\\\\Users\\\\A\\\\anaconda3\\\\Lib\\\\site-packages\\\\ipykernel_launcher.py', '-f', 'C:\\\\Users\\\\A\\\\AppData\\\\Roaming\\\\jupyter\\\\runtime\\\\kernel-25f71ea1-047a-4a2d-af0b-1ab31efa549e.json']\n"
     ]
    },
    {
     "ename": "ValueError",
     "evalue": "invalid literal for int() with base 10: '-f'",
     "output_type": "error",
     "traceback": [
      "\u001b[1;31m---------------------------------------------------------------------------\u001b[0m",
      "\u001b[1;31mValueError\u001b[0m                                Traceback (most recent call last)",
      "Cell \u001b[1;32mIn[9], line 6\u001b[0m\n\u001b[0;32m      4\u001b[0m \u001b[38;5;28msum\u001b[39m\u001b[38;5;241m=\u001b[39m\u001b[38;5;241m0\u001b[39m\n\u001b[0;32m      5\u001b[0m \u001b[38;5;28;01mfor\u001b[39;00m s \u001b[38;5;129;01min\u001b[39;00m sys\u001b[38;5;241m.\u001b[39margv[\u001b[38;5;241m1\u001b[39m:]:\n\u001b[1;32m----> 6\u001b[0m \t\u001b[38;5;28msum\u001b[39m \u001b[38;5;241m+\u001b[39m\u001b[38;5;241m=\u001b[39m \u001b[38;5;28mint\u001b[39m(s)\n\u001b[0;32m      7\u001b[0m \u001b[38;5;28mprint\u001b[39m (\u001b[38;5;124m\"\u001b[39m\u001b[38;5;124mSum is --> \u001b[39m\u001b[38;5;124m\"\u001b[39m, \u001b[38;5;28msum\u001b[39m)\n",
      "\u001b[1;31mValueError\u001b[0m: invalid literal for int() with base 10: '-f'"
     ]
    }
   ],
   "source": [
    "# Add all the numbers given at cmd line\n",
    "import sys\n",
    "print (sys.argv)\n",
    "sum=0\n",
    "for s in sys.argv[1:]:\n",
    "\tsum += int(s)\n",
    "print (\"Sum is --> \", sum)"
   ]
  },
  {
   "cell_type": "code",
   "execution_count": null,
   "id": "e775dbaa-aa89-4000-8ad8-fb71dc340ad0",
   "metadata": {},
   "outputs": [],
   "source": []
  }
 ],
 "metadata": {
  "kernelspec": {
   "display_name": "Python [conda env:base] *",
   "language": "python",
   "name": "conda-base-py"
  },
  "language_info": {
   "codemirror_mode": {
    "name": "ipython",
    "version": 3
   },
   "file_extension": ".py",
   "mimetype": "text/x-python",
   "name": "python",
   "nbconvert_exporter": "python",
   "pygments_lexer": "ipython3",
   "version": "3.12.7"
  }
 },
 "nbformat": 4,
 "nbformat_minor": 5
}
