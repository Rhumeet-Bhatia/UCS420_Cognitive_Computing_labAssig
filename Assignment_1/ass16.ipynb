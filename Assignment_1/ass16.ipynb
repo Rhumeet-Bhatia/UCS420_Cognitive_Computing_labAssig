{
 "cells": [
  {
   "cell_type": "code",
   "execution_count": 1,
   "id": "3d508d0a-916f-4e84-a307-71434c5e7308",
   "metadata": {},
   "outputs": [],
   "source": [
    "fp=open('result.txt','w')\n",
    "for i in range(1,11):\n",
    "\tfp.write(str(i) + \"\\n\")\n",
    "fp.close()"
   ]
  },
  {
   "cell_type": "code",
   "execution_count": 2,
   "id": "5b75af6f-6399-4405-821f-5d9548ffe3d5",
   "metadata": {},
   "outputs": [
    {
     "name": "stdout",
     "output_type": "stream",
     "text": [
      "1\n",
      "2\n",
      "3\n",
      "4\n",
      "5\n",
      "6\n",
      "7\n",
      "8\n",
      "9\n",
      "10\n"
     ]
    }
   ],
   "source": [
    "fp=open('result.txt')\n",
    "for i in fp:\n",
    "\tprint (i.strip())\n",
    "fp.close()"
   ]
  },
  {
   "cell_type": "code",
   "execution_count": 3,
   "id": "5bb58405-8be5-494a-b14e-4f567d354402",
   "metadata": {},
   "outputs": [],
   "source": [
    "# Read from one file, Convert it to upper case and write to other file\n",
    "Readfp=open('result.txt')\t\t\n",
    "Writefp=open('abc.txt',mode='w')\t\n",
    "for i in Readfp:\n",
    "\tWritefp.write(i.upper())\n",
    "Writefp.write('The file ends here')\n",
    "Writefp.close()\n",
    "Readfp.close()"
   ]
  },
  {
   "cell_type": "code",
   "execution_count": 4,
   "id": "17dfa599-a339-4135-8aa4-9723f8a05a24",
   "metadata": {},
   "outputs": [
    {
     "name": "stdout",
     "output_type": "stream",
     "text": [
      "1 ---> 2 ---> 3 ---> 4 ---> 5 ---> 6 ---> 7 ---> 8 ---> 9 ---> 10 ---> The file ends here ---> "
     ]
    }
   ],
   "source": [
    "fp=open('abc.txt')\n",
    "for i in fp:\n",
    "\tprint (i.strip(),end=' ---> ')\n",
    "fp.close()"
   ]
  },
  {
   "cell_type": "code",
   "execution_count": null,
   "id": "d4aa8576-2046-4b3b-a52d-9da099a11a41",
   "metadata": {},
   "outputs": [],
   "source": []
  }
 ],
 "metadata": {
  "kernelspec": {
   "display_name": "Python [conda env:base] *",
   "language": "python",
   "name": "conda-base-py"
  },
  "language_info": {
   "codemirror_mode": {
    "name": "ipython",
    "version": 3
   },
   "file_extension": ".py",
   "mimetype": "text/x-python",
   "name": "python",
   "nbconvert_exporter": "python",
   "pygments_lexer": "ipython3",
   "version": "3.12.7"
  }
 },
 "nbformat": 4,
 "nbformat_minor": 5
}
