{
 "cells": [
  {
   "cell_type": "markdown",
   "id": "d054c68a-7031-4028-a720-6007a63ec4b9",
   "metadata": {},
   "source": [
    "## 1. Create a List L that is defined as= [10, 20, 30, 40, 50, 60, 70, 80].\n",
    "- WAP to add 200 and 300 to L.\n",
    "- WAP to remove 10 and 30 from L.\n",
    "- WAP to sort L in ascending order.\n",
    "- WAP to sort L in descending order."
   ]
  },
  {
   "cell_type": "code",
   "execution_count": 2,
   "id": "d3c3a538-5187-43c5-9b9b-214b2c605e5e",
   "metadata": {},
   "outputs": [
    {
     "name": "stdout",
     "output_type": "stream",
     "text": [
      "[10, 20, 30, 40, 50, 60, 70, 80]\n",
      "[10, 20, 30, 40, 50, 60, 70, 80, 200]\n",
      "[10, 20, 30, 40, 50, 60, 70, 80, 200, 300]\n",
      "[20, 30, 40, 50, 60, 70, 80, 200, 300]\n",
      "[20, 40, 50, 60, 70, 80, 200, 300]\n",
      "[20, 40, 50, 60, 70, 80, 200, 300]\n",
      "[300, 200, 80, 70, 60, 50, 40, 20]\n"
     ]
    }
   ],
   "source": [
    "l1=[10,20,30,40,50,60,70,80]\n",
    "print(l1)\n",
    "l1.append(200)\n",
    "print(l1)\n",
    "l1.append(300)\n",
    "print(l1)\n",
    "l1.remove(10)\n",
    "print(l1)\n",
    "l1.remove(30)\n",
    "print(l1)\n",
    "l1.sort()\n",
    "print(l1)\n",
    "l1.sort(reverse=True)\n",
    "print(l1)"
   ]
  },
  {
   "cell_type": "markdown",
   "id": "bfc2eb6b-1b19-46e9-bbed-c4f7f6329d6e",
   "metadata": {},
   "source": [
    "# 2. Create a tuple of marks scored as scores = (45, 89.5, 76, 45.4, 89, 92, 58, 45) and\n",
    "perform the following operations using tuple functions:\n",
    "- Identify the highest score and its index in the tuple.\n",
    "- Find the lowest score and count how many times it appears.\n",
    "- Reverse the tuple and return it as a list.\n",
    "- Check if a specific score ‘76’ (input by the user) is present in the tuple and\n",
    "print its first occurrence index, or a message saying it’s not present."
   ]
  },
  {
   "cell_type": "code",
   "execution_count": 4,
   "id": "c30f0e79-50fe-4a77-b0b7-5117b16098ea",
   "metadata": {},
   "outputs": [
    {
     "name": "stdout",
     "output_type": "stream",
     "text": [
      "(45, 89.5, 76, 45.4, 89, 92, 58, 45)\n",
      "Highest score is 92 and it is present at 5 index\n",
      "Highest score is 45 and it is present at 2 index\n",
      "[45, 58, 92, 89, 45.4, 76, 89.5, 45]\n"
     ]
    },
    {
     "name": "stdin",
     "output_type": "stream",
     "text": [
      "Enter score to check 76\n"
     ]
    },
    {
     "name": "stdout",
     "output_type": "stream",
     "text": [
      "76 is present in tuple at index 2\n"
     ]
    }
   ],
   "source": [
    "t1=(45,89.5,76,45.4,89,92,58,45)\n",
    "print(t1)\n",
    "print(f'Highest score is {max(t1)} and it is present at {t1.index(max(t1))} index')\n",
    "print(f'Highest score is {min(t1)} and it is present at {t1.count(min(t1))} index')\n",
    "l=list(t1[::-1])\n",
    "print(l)\n",
    "try:\n",
    "    num=eval(input('Enter score to check'))\n",
    "    index=t1.index(num)\n",
    "    print(f'{num} is present in tuple at index {index}')\n",
    "except:\n",
    "    print(f'{num} is not present in tuple')"
   ]
  },
  {
   "cell_type": "markdown",
   "id": "2d1c91dc-cdf9-4ff2-842f-b7e1099f5c04",
   "metadata": {},
   "source": [
    "## 3. WAP to create a list of 100 random numbers between 100 and 900. Count and print the:\n",
    "- All odd numbers\n",
    "- All even numbers\n",
    "- All prime numbers"
   ]
  },
  {
   "cell_type": "code",
   "execution_count": 6,
   "id": "217e6863-b24c-4396-979c-6b24d50b7f56",
   "metadata": {},
   "outputs": [
    {
     "name": "stdout",
     "output_type": "stream",
     "text": [
      "List is: [465, 349, 737, 541, 536, 778, 420, 846, 851, 205, 100, 695, 713, 500, 758, 114, 223, 416, 888, 448, 102, 774, 807, 354, 404, 359, 587, 178, 735, 644, 611, 125, 663, 879, 250, 496, 892, 507, 210, 203, 109, 885, 377, 562, 639, 623, 746, 837, 761, 358, 859, 857, 101, 589, 811, 149, 569, 504, 825, 501, 677, 552, 527, 762, 641, 121, 621, 158, 408, 279, 387, 658, 869, 643, 891, 260, 296, 254, 434, 732, 299, 704, 174, 624, 225, 577, 405, 428, 154, 543, 188, 294, 537, 189, 612, 819, 423, 715, 525, 884]\n",
      "\n",
      "\n",
      "Odd numbers are:  [465, 349, 737, 541, 851, 205, 695, 713, 223, 807, 359, 587, 735, 611, 125, 663, 879, 507, 203, 109, 885, 377, 639, 623, 837, 761, 859, 857, 101, 589, 811, 149, 569, 825, 501, 677, 527, 641, 121, 621, 279, 387, 869, 643, 891, 299, 225, 577, 405, 543, 537, 189, 819, 423, 715, 525]\n",
      "\n",
      "\n",
      "Even numbers are:  [536, 778, 420, 846, 100, 500, 758, 114, 416, 888, 448, 102, 774, 354, 404, 178, 644, 250, 496, 892, 210, 562, 746, 358, 504, 552, 762, 158, 408, 658, 260, 296, 254, 434, 732, 704, 174, 624, 428, 154, 188, 294, 612, 884]\n",
      "\n",
      "\n",
      "Prime numbers are:  [349, 541, 223, 359, 587, 109, 761, 859, 857, 101, 811, 149, 569, 677, 641, 643, 577]\n",
      "\n",
      "\n"
     ]
    }
   ],
   "source": [
    "import random as r\n",
    "import sympy as sp\n",
    "l2=r.sample(range(100,900),100)\n",
    "print('List is:',l2)\n",
    "l2_odd=[i for i in l2 if i%2!=0]\n",
    "l2_even=[i for i in l2 if i%2==0]\n",
    "l2_prime=[i for i in l2 if sp.isprime(i)]\n",
    "print('\\n')\n",
    "print(\"Odd numbers are: \",l2_odd)\n",
    "print('\\n')\n",
    "print(\"Even numbers are: \",l2_even)\n",
    "print('\\n')\n",
    "print(\"Prime numbers are: \",l2_prime)\n",
    "print('\\n')"
   ]
  },
  {
   "cell_type": "markdown",
   "id": "c4aaaba4-b8bd-4c26-bf26-88cba3c3e624",
   "metadata": {},
   "source": [
    "## 4. Consider the following two sets, A and B, representing scores of two teams in mutiple matches. A = {34, 56, 78, 90} and B = {78, 45, 90, 23} WAP to perform the following operations using set functions:\n",
    "- Find the unique scores achieved by both teams (union of sets).\n",
    "- Identify the scores that are common to both teams (intersection of sets).\n",
    "- Find the scores that are exclusive to each team (symmetric difference).\n",
    "- Check if the scores of team A are a subset of team B, and if team B's scores are a superset of team A.\n",
    "- Remove a specific score X (input by the user) from set A if it exists. If not, print a message saying it is not present."
   ]
  },
  {
   "cell_type": "code",
   "execution_count": 8,
   "id": "d532ea4b-2ad8-4241-982e-19a75a2ecf55",
   "metadata": {},
   "outputs": [
    {
     "name": "stdout",
     "output_type": "stream",
     "text": [
      "Team A score is: {56, 34, 90, 78}\n",
      "Team B score is: {90, 45, 78, 23}\n",
      "Unique scores achieved by both the teams are: {34, 45, 78, 23, 56, 90}\n",
      "Common scores achieved by both the teams are: {90, 78}\n",
      "Scores exclusive to both the teams: {34, 45, 23, 56}\n",
      "A is not a subset of B\n",
      "B is not a superset of A\n"
     ]
    },
    {
     "name": "stdin",
     "output_type": "stream",
     "text": [
      "Enter score to check 34\n"
     ]
    },
    {
     "name": "stdout",
     "output_type": "stream",
     "text": [
      "34 is removed from A and new set is {56, 90, 78}\n"
     ]
    }
   ],
   "source": [
    "A={34,56,78,90}\n",
    "B={78,45,90,23}\n",
    "print(f'Team A score is: {A}')\n",
    "print(f'Team B score is: {B}')\n",
    "print(f'Unique scores achieved by both the teams are: {A|B}')\n",
    "print(f'Common scores achieved by both the teams are: {A&B}')\n",
    "print(f'Scores exclusive to both the teams: {A.symmetric_difference(B)}')\n",
    "if A.issubset(B):\n",
    "    print('A is subset of B')\n",
    "else:\n",
    "    print('A is not a subset of B')\n",
    "if B.issuperset(A):\n",
    "    print('B is superset of A')\n",
    "else:\n",
    "    print('B is not a superset of A')\n",
    "num=eval(input('Enter score to check'))\n",
    "if num in A:\n",
    "    A.remove(num)\n",
    "    print(f'{num} is removed from A and new set is {A}')\n",
    "else:\n",
    "    print(f'{num} is not present in A')"
   ]
  },
  {
   "cell_type": "markdown",
   "id": "9cae07cc-0401-48ac-8480-d05a424db51f",
   "metadata": {},
   "source": [
    "## 5. Write a program to rename a key city to a location in the following dictionary."
   ]
  },
  {
   "cell_type": "raw",
   "id": "10011dbf-9a1e-4320-9aeb-de28e054c77c",
   "metadata": {},
   "source": [
    " Given:\n",
    "      sample_dict={\n",
    "          \"name\": \"Kelly\",\n",
    "          \"age\":25,\n",
    "          \"salary\": 8000,\n",
    "          \"city\": \"New york\"\n",
    "      }\n",
    "\n",
    " Expected output:\n",
    "        {\"name\": \"Kelly\",\"age\":25,\"salary\": 8000,\"location\": \"New york\"}"
   ]
  },
  {
   "cell_type": "code",
   "execution_count": 10,
   "id": "b1c570e2-f4e4-4b28-bf28-3342d20bcd02",
   "metadata": {},
   "outputs": [
    {
     "name": "stdout",
     "output_type": "stream",
     "text": [
      "{'name': 'Kelly', 'age': 25, 'salary': 8000, 'location': 'New york'}\n"
     ]
    }
   ],
   "source": [
    "sample_dict={\n",
    "    \"name\": \"Kelly\",\n",
    "    \"age\":25,\n",
    "    \"salary\": 8000,\n",
    "    \"city\": \"New york\"\n",
    "}\n",
    "sample_dict['location']=sample_dict['city']\n",
    "del sample_dict['city']\n",
    "print(sample_dict)"
   ]
  },
  {
   "cell_type": "code",
   "execution_count": null,
   "id": "8b38052a-8ff7-4ddb-a047-397d42cef3bb",
   "metadata": {},
   "outputs": [],
   "source": []
  }
 ],
 "metadata": {
  "kernelspec": {
   "display_name": "Python [conda env:base] *",
   "language": "python",
   "name": "conda-base-py"
  },
  "language_info": {
   "codemirror_mode": {
    "name": "ipython",
    "version": 3
   },
   "file_extension": ".py",
   "mimetype": "text/x-python",
   "name": "python",
   "nbconvert_exporter": "python",
   "pygments_lexer": "ipython3",
   "version": "3.12.7"
  }
 },
 "nbformat": 4,
 "nbformat_minor": 5
}
