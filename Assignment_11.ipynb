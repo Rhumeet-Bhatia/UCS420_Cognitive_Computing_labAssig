{
 "cells": [
  {
   "cell_type": "markdown",
   "id": "eda6794e-61e0-4589-9adc-6fe23adaf4df",
   "metadata": {},
   "source": [
    "## Name - Rhumeet Bhatia\n",
    "## Roll No. - 102317171"
   ]
  },
  {
   "cell_type": "markdown",
   "id": "ead3cffd-726c-4dbe-84dc-5dab354121a2",
   "metadata": {},
   "source": [
    "#### Q1. Design a Cognitive Assistant for Reading Labels of medicine bottle (You can download Dataset from Internet)."
   ]
  },
  {
   "cell_type": "markdown",
   "id": "67ce7a8f-5f8f-44a9-bbe3-e42934ce1119",
   "metadata": {},
   "source": [
    "<div style=\"text-align: center;\">\n",
    "\n",
    "<img src=\"Images/img1.png\"  style=\"width: 1500px;\">\n",
    "<img src=\"Images/img2.png\"  style=\"width: 1500px;\">\n",
    "<img src=\"Images/img3.png\"  style=\"width: 1500px;\">\n",
    "<img src=\"Images/img4.png\"  style=\"width: 1500px;\">\n",
    "\n",
    "</div>"
   ]
  },
  {
   "cell_type": "markdown",
   "id": "55c9b168-8b9b-4222-b0c1-b68843f701a3",
   "metadata": {},
   "source": [
    "#### Q2. Design an Emotion-aware Cognitive Assistant using Facial Expression Detection."
   ]
  },
  {
   "cell_type": "markdown",
   "id": "9bec2ab5-63f7-415f-8c6e-da459aaa2a9f",
   "metadata": {},
   "source": [
    "<div style=\"text-align: center;\">\n",
    "\n",
    "<img src=\"Images/img5.png\"  style=\"width: 1500px;\">\n",
    "<img src=\"Images/img6.png\"  style=\"width: 1500px;\">\n",
    "<img src=\"Images/img7.png\"  style=\"width: 1500px;\">\n",
    "\n",
    "</div>"
   ]
  }
 ],
 "metadata": {
  "kernelspec": {
   "display_name": "Python [conda env:base] *",
   "language": "python",
   "name": "conda-base-py"
  },
  "language_info": {
   "codemirror_mode": {
    "name": "ipython",
    "version": 3
   },
   "file_extension": ".py",
   "mimetype": "text/x-python",
   "name": "python",
   "nbconvert_exporter": "python",
   "pygments_lexer": "ipython3",
   "version": "3.12.7"
  }
 },
 "nbformat": 4,
 "nbformat_minor": 5
}
