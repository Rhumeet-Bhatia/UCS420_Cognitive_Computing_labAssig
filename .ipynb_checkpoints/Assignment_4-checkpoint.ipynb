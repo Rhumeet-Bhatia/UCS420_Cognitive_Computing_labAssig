{
 "cells": [
  {
   "cell_type": "markdown",
   "id": "c3449617-2b18-4281-bc10-550a08f34926",
   "metadata": {},
   "source": [
    "# Q1. "
   ]
  },
  {
   "cell_type": "code",
   "execution_count": 24,
   "id": "37cf1b1b-44ef-4feb-bc98-643cd02d1869",
   "metadata": {},
   "outputs": [
    {
     "name": "stdout",
     "output_type": "stream",
     "text": [
      "[1 2 3 4 5]\n",
      "The array after addition of 2 in all the elements is: [3 4 5 6 7]\n",
      "The array after mutiplication of 3 in all the elements is: [ 3  6  9 12 15]\n",
      "The array after dividing every element by 2 is: [0.5 1.  1.5 2.  2.5]\n"
     ]
    }
   ],
   "source": [
    "import numpy as np\n",
    "arr=np.array([1,2,3,4,5])\n",
    "print(arr)\n",
    "type(arr)\n",
    "print('The array after addition of 2 in all the elements is:',arr+2)\n",
    "print('The array after mutiplication of 3 in all the elements is:',arr*3)\n",
    "print('The array after dividing every element by 2 is:',arr/2)"
   ]
  },
  {
   "cell_type": "markdown",
   "id": "1ffdb1d2-0d42-4a0c-80fc-2ab1c5b10ff8",
   "metadata": {},
   "source": [
    "# Q2"
   ]
  },
  {
   "cell_type": "code",
   "execution_count": 144,
   "id": "d4301c25-b897-4da6-b7cb-3ac23d287ee6",
   "metadata": {},
   "outputs": [
    {
     "name": "stdout",
     "output_type": "stream",
     "text": [
      "The reversed array is: [5 4 6 3 2 1]\n",
      "Most frequent element in [1 2 3 4 5 1 2 1 1 1] is: [1] and its frequency is: [5]\n",
      "Most frequent element in [1 1 1 2 3 4 2 4 3 3] is: [1 3] and its frequency is: [3 3]\n"
     ]
    }
   ],
   "source": [
    "arr=np.array([1,2,3,6,4,5])\n",
    "print('The reversed array is:',arr[::-1])\n",
    "\n",
    "def most_freq(arr):\n",
    "    values,index,count=np.unique(arr,return_index=True,return_counts=True)\n",
    "    ind=np.where(count==np.max(count))\n",
    "    return values[ind],count[ind]   \n",
    "x=np.array([1,2,3,4,5,1,2,1,1,1])\n",
    "y=np.array([1,1,1,2,3,4,2,4,3,3])\n",
    "print(f'Most frequent element in {x} is: {most_freq(x)[0]} and its frequency is: {most_freq(x)[1]}')\n",
    "print(f'Most frequent element in {y} is: {most_freq(y)[0]} and its frequency is: {most_freq(y)[1]}')"
   ]
  },
  {
   "cell_type": "markdown",
   "id": "f4e773b3-f376-4d06-8f58-801e7a564286",
   "metadata": {},
   "source": [
    "# Q3"
   ]
  },
  {
   "cell_type": "code",
   "execution_count": 75,
   "id": "47fe1c4f-ead2-4519-9c0a-045e001f1c2f",
   "metadata": {},
   "outputs": [
    {
     "name": "stdout",
     "output_type": "stream",
     "text": [
      "20\n",
      "70\n"
     ]
    }
   ],
   "source": [
    "arr=np.array([[10,20,30],[40,50,60],[70,80,90]])\n",
    "print(arr[0,1])\n",
    "print(arr[2,0])"
   ]
  },
  {
   "cell_type": "markdown",
   "id": "89f27f5d-8d24-41d6-86b8-b63cc979cc94",
   "metadata": {},
   "source": [
    "# Q4."
   ]
  },
  {
   "cell_type": "code",
   "execution_count": 110,
   "id": "6f728b3e-5c31-4f54-8aa0-f491416b1889",
   "metadata": {},
   "outputs": [
    {
     "name": "stdout",
     "output_type": "stream",
     "text": [
      "Dimension of array is: 1\n",
      "Shape of array is: (25,)\n",
      "Total elements in array is: 25\n",
      "Data type of element of array is: float64\n",
      "Total bytes consumed by array is: 200\n",
      "Transpose of array is: [[ 10.  ]\n",
      " [ 13.75]\n",
      " [ 17.5 ]\n",
      " [ 21.25]\n",
      " [ 25.  ]\n",
      " [ 28.75]\n",
      " [ 32.5 ]\n",
      " [ 36.25]\n",
      " [ 40.  ]\n",
      " [ 43.75]\n",
      " [ 47.5 ]\n",
      " [ 51.25]\n",
      " [ 55.  ]\n",
      " [ 58.75]\n",
      " [ 62.5 ]\n",
      " [ 66.25]\n",
      " [ 70.  ]\n",
      " [ 73.75]\n",
      " [ 77.5 ]\n",
      " [ 81.25]\n",
      " [ 85.  ]\n",
      " [ 88.75]\n",
      " [ 92.5 ]\n",
      " [ 96.25]\n",
      " [100.  ]]\n",
      "Transpose of array is: [ 10.    13.75  17.5   21.25  25.    28.75  32.5   36.25  40.    43.75\n",
      "  47.5   51.25  55.    58.75  62.5   66.25  70.    73.75  77.5   81.25\n",
      "  85.    88.75  92.5   96.25 100.  ]\n"
     ]
    }
   ],
   "source": [
    "Rhumeet=np.array(np.linspace(10,100,25))\n",
    "print('Dimension of array is:',Rhumeet.ndim)\n",
    "print('Shape of array is:',Rhumeet.shape)\n",
    "print('Total elements in array is:',Rhumeet.size)\n",
    "print('Data type of element of array is:',Rhumeet.dtype)\n",
    "print('Total bytes consumed by array is:',Rhumeet.itemsize*Rhumeet.size)\n",
    "print('Transpose of array is:',Rhumeet.reshape(Rhumeet.size,1))\n",
    "print('Transpose of array is:',Rhumeet.T)"
   ]
  },
  {
   "cell_type": "markdown",
   "id": "4ce99a47-6c2b-446a-b2b6-d77726a31a4d",
   "metadata": {},
   "source": [
    "# Q5."
   ]
  },
  {
   "cell_type": "code",
   "execution_count": 122,
   "id": "de747b29-dbce-4fa0-94d8-7222d0bfa811",
   "metadata": {},
   "outputs": [
    {
     "name": "stdout",
     "output_type": "stream",
     "text": [
      "[[10 20 30 40]\n",
      " [50 60 70 80]\n",
      " [90 15 20 35]]\n",
      "Mean of all elements = 43.333333333333336\n",
      "Median of all elements = 37.5\n",
      "Max of all elements = 90\n",
      "Min of all elements = 10\n",
      "Unique elements = [10 15 20 30 35 40 50 60 70 80 90]\n",
      "[[10 20 30]\n",
      " [40 50 60]\n",
      " [70 80 90]\n",
      " [15 20 35]]\n"
     ]
    },
    {
     "data": {
      "text/plain": [
       "array([[10, 20, 30],\n",
       "       [40, 50, 60]])"
      ]
     },
     "execution_count": 122,
     "metadata": {},
     "output_type": "execute_result"
    }
   ],
   "source": [
    "ucs420_Rhumeet=np.array([10,20,30,40,50,60,70,80,90,15,20,35])\n",
    "ucs420_Rhumeet=ucs420_Rhumeet.reshape(3,4)\n",
    "print(ucs420_Rhumeet)\n",
    "print(f'Mean of all elements = {np.mean(ucs420_Rhumeet)}')\n",
    "print(f'Median of all elements = {np.median(ucs420_Rhumeet)}')\n",
    "print(f'Max of all elements = {np.max(ucs420_Rhumeet)}')\n",
    "print(f'Min of all elements = {np.min(ucs420_Rhumeet)}')\n",
    "print(f'Unique elements = {np.unique(ucs420_Rhumeet)}')\n",
    "\n",
    "reshaped_ucs420_Rhumeet=ucs420_Rhumeet.reshape(4,3)\n",
    "print(reshaped_ucs420_Rhumeet)\n",
    "resized_ucs420_Rhumeet=np.resize(reshaped_ucs420_Rhumeet,(2,3))\n",
    "resized_ucs420_Rhumeet"
   ]
  },
  {
   "cell_type": "code",
   "execution_count": null,
   "id": "ea553b76-d3b8-401c-aafd-dcb662d25531",
   "metadata": {},
   "outputs": [],
   "source": [
    "\n"
   ]
  }
 ],
 "metadata": {
  "kernelspec": {
   "display_name": "Python 3 (ipykernel)",
   "language": "python",
   "name": "python3"
  },
  "language_info": {
   "codemirror_mode": {
    "name": "ipython",
    "version": 3
   },
   "file_extension": ".py",
   "mimetype": "text/x-python",
   "name": "python",
   "nbconvert_exporter": "python",
   "pygments_lexer": "ipython3",
   "version": "3.11.7"
  }
 },
 "nbformat": 4,
 "nbformat_minor": 5
}
