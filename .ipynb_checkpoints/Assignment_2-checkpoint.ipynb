{
 "cells": [
  {
   "cell_type": "markdown",
   "id": "d054c68a-7031-4028-a720-6007a63ec4b9",
   "metadata": {},
   "source": [
    "## 1. Create a List L that is defined as= [10, 20, 30, 40, 50, 60, 70, 80].\n",
    "- WAP to add 200 and 300 to L.\n",
    "- WAP to remove 10 and 30 from L.\n",
    "- WAP to sort L in ascending order.\n",
    "- WAP to sort L in descending order."
   ]
  },
  {
   "cell_type": "code",
   "execution_count": 2,
   "id": "d3c3a538-5187-43c5-9b9b-214b2c605e5e",
   "metadata": {},
   "outputs": [
    {
     "name": "stdout",
     "output_type": "stream",
     "text": [
      "[10, 20, 30, 40, 50, 60, 70, 80]\n",
      "[10, 20, 30, 40, 50, 60, 70, 80, 200]\n",
      "[10, 20, 30, 40, 50, 60, 70, 80, 200, 300]\n",
      "[20, 30, 40, 50, 60, 70, 80, 200, 300]\n",
      "[20, 40, 50, 60, 70, 80, 200, 300]\n",
      "[20, 40, 50, 60, 70, 80, 200, 300]\n",
      "[300, 200, 80, 70, 60, 50, 40, 20]\n"
     ]
    }
   ],
   "source": [
    "l1=[10,20,30,40,50,60,70,80]\n",
    "print(l1)\n",
    "l1.append(200)\n",
    "print(l1)\n",
    "l1.append(300)\n",
    "print(l1)\n",
    "l1.remove(10)\n",
    "print(l1)\n",
    "l1.remove(30)\n",
    "print(l1)\n",
    "l1.sort()\n",
    "print(l1)\n",
    "l1.sort(reverse=True)\n",
    "print(l1)"
   ]
  },
  {
   "cell_type": "markdown",
   "id": "bfc2eb6b-1b19-46e9-bbed-c4f7f6329d6e",
   "metadata": {},
   "source": [
    "# 2. Create a tuple of marks scored as scores = (45, 89.5, 76, 45.4, 89, 92, 58, 45) and\n",
    "perform the following operations using tuple functions:\n",
    "- Identify the highest score and its index in the tuple.\n",
    "- Find the lowest score and count how many times it appears.\n",
    "- Reverse the tuple and return it as a list.\n",
    "- Check if a specific score ‘76’ (input by the user) is present in the tuple and\n",
    "print its first occurrence index, or a message saying it’s not present."
   ]
  },
  {
   "cell_type": "code",
   "execution_count": 4,
   "id": "c30f0e79-50fe-4a77-b0b7-5117b16098ea",
   "metadata": {},
   "outputs": [
    {
     "name": "stdout",
     "output_type": "stream",
     "text": [
      "(45, 89.5, 76, 45.4, 89, 92, 58, 45)\n",
      "Highest score is 92 and it is present at 5 index\n",
      "Highest score is 45 and it is present 2 times\n",
      "Reverse order is: [45, 58, 92, 89, 45.4, 76, 89.5, 45]\n"
     ]
    },
    {
     "name": "stdin",
     "output_type": "stream",
     "text": [
      "Enter score to check 76\n"
     ]
    },
    {
     "name": "stdout",
     "output_type": "stream",
     "text": [
      "76 is present in tuple at index 2\n"
     ]
    }
   ],
   "source": [
    "t1=(45,89.5,76,45.4,89,92,58,45)\n",
    "print(t1)\n",
    "print(f'Highest score is {max(t1)} and it is present at {t1.index(max(t1))} index')\n",
    "print(f'Highest score is {min(t1)} and it is present {t1.count(min(t1))} times')\n",
    "l=list(t1[::-1])\n",
    "print('Reverse order is:',l)\n",
    "try:\n",
    "    num=eval(input('Enter score to check'))\n",
    "    index=t1.index(num)\n",
    "    print(f'{num} is present in tuple at index {index}')\n",
    "except:\n",
    "    print(f'{num} is not present in tuple')"
   ]
  },
  {
   "cell_type": "markdown",
   "id": "2d1c91dc-cdf9-4ff2-842f-b7e1099f5c04",
   "metadata": {},
   "source": [
    "## 3. WAP to create a list of 100 random numbers between 100 and 900. Count and print the:\n",
    "- All odd numbers\n",
    "- All even numbers\n",
    "- All prime numbers"
   ]
  },
  {
   "cell_type": "code",
   "execution_count": 6,
   "id": "217e6863-b24c-4396-979c-6b24d50b7f56",
   "metadata": {},
   "outputs": [
    {
     "name": "stdout",
     "output_type": "stream",
     "text": [
      "List is: [436, 175, 493, 563, 443, 674, 517, 525, 368, 586, 609, 874, 424, 468, 735, 157, 828, 160, 318, 268, 788, 377, 414, 518, 360, 431, 530, 508, 632, 621, 537, 342, 131, 846, 519, 852, 746, 224, 156, 745, 664, 227, 423, 688, 320, 348, 230, 105, 239, 240, 666, 223, 684, 771, 560, 202, 594, 867, 502, 427, 453, 699, 220, 457, 873, 595, 370, 484, 837, 474, 403, 509, 349, 690, 309, 187, 619, 120, 701, 832, 780, 254, 116, 228, 466, 554, 661, 477, 460, 299, 346, 675, 637, 869, 802, 183, 363, 757, 428, 503]\n",
      "\n",
      "\n",
      "Odd numbers are:  [175, 493, 563, 443, 517, 525, 609, 735, 157, 377, 431, 621, 537, 131, 519, 745, 227, 423, 105, 239, 223, 771, 867, 427, 453, 699, 457, 873, 595, 837, 403, 509, 349, 309, 187, 619, 701, 661, 477, 299, 675, 637, 869, 183, 363, 757, 503]\n",
      "\n",
      "\n",
      "Even numbers are:  [436, 674, 368, 586, 874, 424, 468, 828, 160, 318, 268, 788, 414, 518, 360, 530, 508, 632, 342, 846, 852, 746, 224, 156, 664, 688, 320, 348, 230, 240, 666, 684, 560, 202, 594, 502, 220, 370, 484, 474, 690, 120, 832, 780, 254, 116, 228, 466, 554, 460, 346, 802, 428]\n",
      "\n",
      "\n",
      "Prime numbers are:  [563, 443, 157, 431, 131, 227, 239, 223, 457, 509, 349, 619, 701, 661, 757, 503]\n",
      "\n",
      "\n"
     ]
    }
   ],
   "source": [
    "import random as r\n",
    "import sympy as sp\n",
    "l2=r.sample(range(100,900),100)\n",
    "print('List is:',l2)\n",
    "l2_odd=[i for i in l2 if i%2!=0]\n",
    "l2_even=[i for i in l2 if i%2==0]\n",
    "l2_prime=[i for i in l2 if sp.isprime(i)]\n",
    "print('\\n')\n",
    "print(\"Odd numbers are: \",l2_odd)\n",
    "print('\\n')\n",
    "print(\"Even numbers are: \",l2_even)\n",
    "print('\\n')\n",
    "print(\"Prime numbers are: \",l2_prime)\n",
    "print('\\n')"
   ]
  },
  {
   "cell_type": "markdown",
   "id": "c4aaaba4-b8bd-4c26-bf26-88cba3c3e624",
   "metadata": {},
   "source": [
    "## 4. Consider the following two sets, A and B, representing scores of two teams in mutiple matches. A = {34, 56, 78, 90} and B = {78, 45, 90, 23} WAP to perform the following operations using set functions:\n",
    "- Find the unique scores achieved by both teams (union of sets).\n",
    "- Identify the scores that are common to both teams (intersection of sets).\n",
    "- Find the scores that are exclusive to each team (symmetric difference).\n",
    "- Check if the scores of team A are a subset of team B, and if team B's scores are a superset of team A.\n",
    "- Remove a specific score X (input by the user) from set A if it exists. If not, print a message saying it is not present."
   ]
  },
  {
   "cell_type": "code",
   "execution_count": 8,
   "id": "d532ea4b-2ad8-4241-982e-19a75a2ecf55",
   "metadata": {},
   "outputs": [
    {
     "name": "stdout",
     "output_type": "stream",
     "text": [
      "Team A score is: {56, 34, 90, 78}\n",
      "Team B score is: {90, 45, 78, 23}\n",
      "Unique scores achieved by both the teams are: {34, 45, 78, 23, 56, 90}\n",
      "Common scores achieved by both the teams are: {90, 78}\n",
      "Scores exclusive to both the teams: {34, 45, 23, 56}\n",
      "A is not a subset of B\n",
      "B is not a superset of A\n"
     ]
    },
    {
     "name": "stdin",
     "output_type": "stream",
     "text": [
      "Enter score to check 34\n"
     ]
    },
    {
     "name": "stdout",
     "output_type": "stream",
     "text": [
      "34 is removed from A and new set is {56, 90, 78}\n"
     ]
    }
   ],
   "source": [
    "A={34,56,78,90}\n",
    "B={78,45,90,23}\n",
    "print(f'Team A score is: {A}')\n",
    "print(f'Team B score is: {B}')\n",
    "print(f'Unique scores achieved by both the teams are: {A|B}')\n",
    "print(f'Common scores achieved by both the teams are: {A&B}')\n",
    "print(f'Scores exclusive to both the teams: {A.symmetric_difference(B)}')\n",
    "if A.issubset(B):\n",
    "    print('A is subset of B')\n",
    "else:\n",
    "    print('A is not a subset of B')\n",
    "if B.issuperset(A):\n",
    "    print('B is superset of A')\n",
    "else:\n",
    "    print('B is not a superset of A')\n",
    "num=eval(input('Enter score to check'))\n",
    "if num in A:\n",
    "    A.remove(num)\n",
    "    print(f'{num} is removed from A and new set is {A}')\n",
    "else:\n",
    "    print(f'{num} is not present in A')"
   ]
  },
  {
   "cell_type": "markdown",
   "id": "9cae07cc-0401-48ac-8480-d05a424db51f",
   "metadata": {},
   "source": [
    "## 5. Write a program to rename a key city to a location in the following dictionary."
   ]
  },
  {
   "cell_type": "raw",
   "id": "10011dbf-9a1e-4320-9aeb-de28e054c77c",
   "metadata": {},
   "source": [
    " Given:\n",
    "      sample_dict={\n",
    "          \"name\": \"Kelly\",\n",
    "          \"age\":25,\n",
    "          \"salary\": 8000,\n",
    "          \"city\": \"New york\"\n",
    "      }\n",
    "\n",
    " Expected output:\n",
    "        {\"name\": \"Kelly\",\"age\":25,\"salary\": 8000,\"location\": \"New york\"}"
   ]
  },
  {
   "cell_type": "code",
   "execution_count": 10,
   "id": "b1c570e2-f4e4-4b28-bf28-3342d20bcd02",
   "metadata": {},
   "outputs": [
    {
     "name": "stdout",
     "output_type": "stream",
     "text": [
      "{'name': 'Kelly', 'age': 25, 'salary': 8000, 'location': 'New york'}\n"
     ]
    }
   ],
   "source": [
    "sample_dict={\n",
    "    \"name\": \"Kelly\",\n",
    "    \"age\":25,\n",
    "    \"salary\": 8000,\n",
    "    \"city\": \"New york\"\n",
    "}\n",
    "sample_dict['location']=sample_dict['city']\n",
    "del sample_dict['city']\n",
    "print(sample_dict)"
   ]
  },
  {
   "cell_type": "code",
   "execution_count": null,
   "id": "8b38052a-8ff7-4ddb-a047-397d42cef3bb",
   "metadata": {},
   "outputs": [],
   "source": []
  }
 ],
 "metadata": {
  "kernelspec": {
   "display_name": "Python [conda env:base] *",
   "language": "python",
   "name": "conda-base-py"
  },
  "language_info": {
   "codemirror_mode": {
    "name": "ipython",
    "version": 3
   },
   "file_extension": ".py",
   "mimetype": "text/x-python",
   "name": "python",
   "nbconvert_exporter": "python",
   "pygments_lexer": "ipython3",
   "version": "3.12.7"
  }
 },
 "nbformat": 4,
 "nbformat_minor": 5
}
